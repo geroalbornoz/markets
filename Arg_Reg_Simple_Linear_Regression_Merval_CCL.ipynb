{
  "nbformat": 4,
  "nbformat_minor": 0,
  "metadata": {
    "kernelspec": {
      "display_name": "Python 3",
      "language": "python",
      "name": "python3"
    },
    "language_info": {
      "codemirror_mode": {
        "name": "ipython",
        "version": 3
      },
      "file_extension": ".py",
      "mimetype": "text/x-python",
      "name": "python",
      "nbconvert_exporter": "python",
      "pygments_lexer": "ipython3",
      "version": "3.6.6"
    },
    "colab": {
      "name": "Arg-Reg-Simple-Linear-Regression-Merval/CCL.ipynb",
      "provenance": [],
      "collapsed_sections": [],
      "include_colab_link": true
    }
  },
  "cells": [
    {
      "cell_type": "markdown",
      "metadata": {
        "id": "view-in-github",
        "colab_type": "text"
      },
      "source": [
        "<a href=\"https://colab.research.google.com/github/geroalbornoz/markets/blob/master/Arg_Reg_Simple_Linear_Regression_Merval_CCL.ipynb\" target=\"_parent\"><img src=\"https://colab.research.google.com/assets/colab-badge.svg\" alt=\"Open In Colab\"/></a>"
      ]
    },
    {
      "cell_type": "markdown",
      "metadata": {
        "button": false,
        "deletable": true,
        "new_sheet": false,
        "run_control": {
          "read_only": false
        },
        "id": "B4dBLPN_LceA"
      },
      "source": [
        "<a href=\"https://www.bigdatauniversity.com\"><img src=\"https://ibm.box.com/shared/static/cw2c7r3o20w9zn8gkecaeyjhgw3xdgbj.png\" width=\"400\" align=\"center\"></a>\n",
        "\n",
        "<h1><center>Simple Linear Regression</center></h1>\n",
        "\n",
        "\n",
        "<h4>About this Notebook</h4>\n",
        "In this notebook, we learn how to use scikit-learn to implement simple linear regression. We download a dataset that is related to fuel consumption and Carbon dioxide emission of cars. Then, we split our data into training and test sets, create a model using training set, evaluate your model using test set, and finally use model to predict unknown value.\n"
      ]
    },
    {
      "cell_type": "markdown",
      "metadata": {
        "id": "tntGuevRLceG"
      },
      "source": [
        "<h1>Table of contents</h1>\n",
        "\n",
        "<div class=\"alert alert-block alert-info\" style=\"margin-top: 20px\">\n",
        "    <ol>\n",
        "        <li><a href=\"#understanding_data\">Understanding the Data</a></li>\n",
        "        <li><a href=\"#reading_data\">Reading the data in</a></li>\n",
        "        <li><a href=\"#data_exploration\">Data Exploration</a></li>\n",
        "        <li><a href=\"#simple_regression\">Simple Regression Model</a></li>\n",
        "    </ol>\n",
        "</div>\n",
        "<br>\n",
        "<hr>"
      ]
    },
    {
      "cell_type": "markdown",
      "metadata": {
        "button": false,
        "deletable": true,
        "new_sheet": false,
        "run_control": {
          "read_only": false
        },
        "id": "44wiRIzWLceL"
      },
      "source": [
        "### Importing Needed packages"
      ]
    },
    {
      "cell_type": "code",
      "metadata": {
        "button": false,
        "deletable": true,
        "new_sheet": false,
        "run_control": {
          "read_only": false
        },
        "id": "6ImKBCh0LceP"
      },
      "source": [
        "import matplotlib.pyplot as plt\n",
        "import pandas as pd\n",
        "import pylab as pl\n",
        "import numpy as np\n",
        "%matplotlib inline"
      ],
      "execution_count": null,
      "outputs": []
    },
    {
      "cell_type": "markdown",
      "metadata": {
        "button": false,
        "deletable": true,
        "new_sheet": false,
        "run_control": {
          "read_only": false
        },
        "id": "-nOMnyyELcek"
      },
      "source": [
        "### Downloading Data\n",
        "To download the data, we will use !wget to download it from IBM Object Storage."
      ]
    },
    {
      "cell_type": "code",
      "metadata": {
        "button": false,
        "deletable": true,
        "new_sheet": false,
        "run_control": {
          "read_only": false
        },
        "id": "L29q3HlRLcen",
        "colab": {
          "base_uri": "https://localhost:8080/",
          "height": 306
        },
        "outputId": "03425dad-1904-4417-9be2-d76204c4a263"
      },
      "source": [
        "!wget -O ccl.csv = https://infra.datos.gob.ar/catalog/sspm/dataset/168/distribution/168.1/download/datos-tipo-cambio-usd-futuro-dolar-frecuencia-diaria.csv"
      ],
      "execution_count": null,
      "outputs": [
        {
          "output_type": "stream",
          "text": [
            "--2020-06-30 14:46:55--  http://=/\n",
            "Resolving = (=)... failed: Name or service not known.\n",
            "wget: unable to resolve host address ‘=’\n",
            "--2020-06-30 14:46:55--  https://infra.datos.gob.ar/catalog/sspm/dataset/168/distribution/168.1/download/datos-tipo-cambio-usd-futuro-dolar-frecuencia-diaria.csv\n",
            "Resolving infra.datos.gob.ar (infra.datos.gob.ar)... 186.33.215.176\n",
            "Connecting to infra.datos.gob.ar (infra.datos.gob.ar)|186.33.215.176|:443... connected.\n",
            "HTTP request sent, awaiting response... 200 OK\n",
            "Length: 727770 (711K) [text/csv]\n",
            "Saving to: ‘ccl.csv’\n",
            "\n",
            "ccl.csv             100%[===================>] 710.71K   556KB/s    in 1.3s    \n",
            "\n",
            "2020-06-30 14:46:58 (556 KB/s) - ‘ccl.csv’ saved [727770/727770]\n",
            "\n",
            "FINISHED --2020-06-30 14:46:58--\n",
            "Total wall clock time: 3.0s\n",
            "Downloaded: 1 files, 711K in 1.3s (556 KB/s)\n"
          ],
          "name": "stdout"
        }
      ]
    },
    {
      "cell_type": "markdown",
      "metadata": {
        "button": false,
        "deletable": true,
        "new_sheet": false,
        "run_control": {
          "read_only": false
        },
        "id": "CSfGMBAtLce4"
      },
      "source": [
        "\n",
        "<h2 id=\"understanding_data\">Understanding the Data</h2>\n",
        "\n",
        "### `FuelConsumption.csv`:\n",
        "We have downloaded a fuel consumption dataset, **`FuelConsumption.csv`**, which contains model-specific fuel consumption ratings and estimated carbon dioxide emissions for new light-duty vehicles for retail sale in Canada. [Dataset source](http://open.canada.ca/data/en/dataset/98f1a129-f628-4ce4-b24d-6f16bf24dd64)\n",
        "\n",
        "- **MODELYEAR** e.g. 2014\n",
        "- **MAKE** e.g. Acura\n",
        "- **MODEL** e.g. ILX\n",
        "- **VEHICLE CLASS** e.g. SUV\n",
        "- **ENGINE SIZE** e.g. 4.7\n",
        "- **CYLINDERS** e.g 6\n",
        "- **TRANSMISSION** e.g. A6\n",
        "- **FUEL CONSUMPTION in CITY(L/100 km)** e.g. 9.9\n",
        "- **FUEL CONSUMPTION in HWY (L/100 km)** e.g. 8.9\n",
        "- **FUEL CONSUMPTION COMB (L/100 km)** e.g. 9.2\n",
        "- **CO2 EMISSIONS (g/km)** e.g. 182   --> low --> 0\n"
      ]
    },
    {
      "cell_type": "markdown",
      "metadata": {
        "button": false,
        "deletable": true,
        "new_sheet": false,
        "run_control": {
          "read_only": false
        },
        "id": "iaZcZFPRLce7"
      },
      "source": [
        "<h2 id=\"reading_data\">Reading the data in</h2>"
      ]
    },
    {
      "cell_type": "code",
      "metadata": {
        "button": false,
        "deletable": true,
        "new_sheet": false,
        "run_control": {
          "read_only": false
        },
        "id": "PV7oJNNmLce9",
        "colab": {
          "base_uri": "https://localhost:8080/",
          "height": 224
        },
        "outputId": "c07dfa13-08aa-4c01-e8d8-52d91b2f9bba"
      },
      "source": [
        "df = pd.read_csv(\"ccl.csv\")\n",
        "\n",
        "# take a look at the dataset\n",
        "df.tail()\n",
        "\n"
      ],
      "execution_count": null,
      "outputs": [
        {
          "output_type": "execute_result",
          "data": {
            "text/html": [
              "<div>\n",
              "<style scoped>\n",
              "    .dataframe tbody tr th:only-of-type {\n",
              "        vertical-align: middle;\n",
              "    }\n",
              "\n",
              "    .dataframe tbody tr th {\n",
              "        vertical-align: top;\n",
              "    }\n",
              "\n",
              "    .dataframe thead th {\n",
              "        text-align: right;\n",
              "    }\n",
              "</style>\n",
              "<table border=\"1\" class=\"dataframe\">\n",
              "  <thead>\n",
              "    <tr style=\"text-align: right;\">\n",
              "      <th></th>\n",
              "      <th>indice_tiempo</th>\n",
              "      <th>tipo_cambio_bna_vendedor</th>\n",
              "      <th>tipo_cambio_a3500</th>\n",
              "      <th>tipo_cambio_mae</th>\n",
              "      <th>volumen_mae</th>\n",
              "      <th>tipo_cambio_implicito_en_adrs</th>\n",
              "      <th>futuro_rofex_usd1m</th>\n",
              "      <th>interes_abierto_1m</th>\n",
              "      <th>futuro_rofex_usd2m</th>\n",
              "      <th>interes_abierto_2m</th>\n",
              "      <th>futuro_rofex_usd3m</th>\n",
              "      <th>interes_abierto_3m</th>\n",
              "      <th>futuro_rofex_usd4m</th>\n",
              "      <th>interes_abierto_4m</th>\n",
              "      <th>futuro_rofex_usd5m</th>\n",
              "      <th>interes_abierto_5m</th>\n",
              "      <th>futuro_rofex_usd6m</th>\n",
              "      <th>interes_abierto_6m</th>\n",
              "    </tr>\n",
              "  </thead>\n",
              "  <tbody>\n",
              "    <tr>\n",
              "      <th>6625</th>\n",
              "      <td>2020-04-24</td>\n",
              "      <td>68.25</td>\n",
              "      <td>66.425</td>\n",
              "      <td>66.43</td>\n",
              "      <td>155250.0</td>\n",
              "      <td>111.967213</td>\n",
              "      <td>66.82</td>\n",
              "      <td>541535.0</td>\n",
              "      <td>69.54</td>\n",
              "      <td>479442.0</td>\n",
              "      <td>72.41</td>\n",
              "      <td>290428.0</td>\n",
              "      <td>75.16</td>\n",
              "      <td>142075.0</td>\n",
              "      <td>77.95</td>\n",
              "      <td>198907.0</td>\n",
              "      <td>80.62</td>\n",
              "      <td>182957.0</td>\n",
              "    </tr>\n",
              "    <tr>\n",
              "      <th>6626</th>\n",
              "      <td>2020-04-25</td>\n",
              "      <td>68.25</td>\n",
              "      <td>66.425</td>\n",
              "      <td>66.43</td>\n",
              "      <td>155250.0</td>\n",
              "      <td>111.967213</td>\n",
              "      <td>66.82</td>\n",
              "      <td>541535.0</td>\n",
              "      <td>69.54</td>\n",
              "      <td>479442.0</td>\n",
              "      <td>72.41</td>\n",
              "      <td>290428.0</td>\n",
              "      <td>75.16</td>\n",
              "      <td>142075.0</td>\n",
              "      <td>77.95</td>\n",
              "      <td>198907.0</td>\n",
              "      <td>80.62</td>\n",
              "      <td>182957.0</td>\n",
              "    </tr>\n",
              "    <tr>\n",
              "      <th>6627</th>\n",
              "      <td>2020-04-26</td>\n",
              "      <td>68.25</td>\n",
              "      <td>66.425</td>\n",
              "      <td>66.43</td>\n",
              "      <td>155250.0</td>\n",
              "      <td>111.967213</td>\n",
              "      <td>66.82</td>\n",
              "      <td>541535.0</td>\n",
              "      <td>69.54</td>\n",
              "      <td>479442.0</td>\n",
              "      <td>72.41</td>\n",
              "      <td>290428.0</td>\n",
              "      <td>75.16</td>\n",
              "      <td>142075.0</td>\n",
              "      <td>77.95</td>\n",
              "      <td>198907.0</td>\n",
              "      <td>80.62</td>\n",
              "      <td>182957.0</td>\n",
              "    </tr>\n",
              "    <tr>\n",
              "      <th>6628</th>\n",
              "      <td>2020-04-27</td>\n",
              "      <td>68.25</td>\n",
              "      <td>66.525</td>\n",
              "      <td>66.53</td>\n",
              "      <td>149250.0</td>\n",
              "      <td>117.622260</td>\n",
              "      <td>66.77</td>\n",
              "      <td>524517.0</td>\n",
              "      <td>69.54</td>\n",
              "      <td>537617.0</td>\n",
              "      <td>72.47</td>\n",
              "      <td>289877.0</td>\n",
              "      <td>75.32</td>\n",
              "      <td>141163.0</td>\n",
              "      <td>78.22</td>\n",
              "      <td>197116.0</td>\n",
              "      <td>80.93</td>\n",
              "      <td>185557.0</td>\n",
              "    </tr>\n",
              "    <tr>\n",
              "      <th>6629</th>\n",
              "      <td>2020-04-28</td>\n",
              "      <td>68.50</td>\n",
              "      <td>66.635</td>\n",
              "      <td>66.63</td>\n",
              "      <td>127300.0</td>\n",
              "      <td>116.762178</td>\n",
              "      <td>66.76</td>\n",
              "      <td>523691.0</td>\n",
              "      <td>69.55</td>\n",
              "      <td>556889.0</td>\n",
              "      <td>72.50</td>\n",
              "      <td>300193.0</td>\n",
              "      <td>75.39</td>\n",
              "      <td>144397.0</td>\n",
              "      <td>78.28</td>\n",
              "      <td>209060.0</td>\n",
              "      <td>81.03</td>\n",
              "      <td>195890.0</td>\n",
              "    </tr>\n",
              "  </tbody>\n",
              "</table>\n",
              "</div>"
            ],
            "text/plain": [
              "     indice_tiempo  ...  interes_abierto_6m\n",
              "6625    2020-04-24  ...            182957.0\n",
              "6626    2020-04-25  ...            182957.0\n",
              "6627    2020-04-26  ...            182957.0\n",
              "6628    2020-04-27  ...            185557.0\n",
              "6629    2020-04-28  ...            195890.0\n",
              "\n",
              "[5 rows x 18 columns]"
            ]
          },
          "metadata": {
            "tags": []
          },
          "execution_count": 3
        }
      ]
    },
    {
      "cell_type": "code",
      "metadata": {
        "id": "7ZNJuVfrSr8s",
        "colab": {
          "base_uri": "https://localhost:8080/",
          "height": 136
        },
        "outputId": "65406411-ca15-4069-cfd5-5df6f3e4427d"
      },
      "source": [
        "df.columns"
      ],
      "execution_count": null,
      "outputs": [
        {
          "output_type": "execute_result",
          "data": {
            "text/plain": [
              "Index(['indice_tiempo', 'tipo_cambio_bna_vendedor', 'tipo_cambio_a3500',\n",
              "       'tipo_cambio_mae', 'volumen_mae', 'tipo_cambio_implicito_en_adrs',\n",
              "       'futuro_rofex_usd1m', 'interes_abierto_1m', 'futuro_rofex_usd2m',\n",
              "       'interes_abierto_2m', 'futuro_rofex_usd3m', 'interes_abierto_3m',\n",
              "       'futuro_rofex_usd4m', 'interes_abierto_4m', 'futuro_rofex_usd5m',\n",
              "       'interes_abierto_5m', 'futuro_rofex_usd6m', 'interes_abierto_6m'],\n",
              "      dtype='object')"
            ]
          },
          "metadata": {
            "tags": []
          },
          "execution_count": 4
        }
      ]
    },
    {
      "cell_type": "code",
      "metadata": {
        "id": "ogAf0B0ESwu6"
      },
      "source": [
        ""
      ],
      "execution_count": null,
      "outputs": []
    },
    {
      "cell_type": "markdown",
      "metadata": {
        "button": false,
        "deletable": true,
        "new_sheet": false,
        "run_control": {
          "read_only": false
        },
        "id": "7r99_NDDLcfO"
      },
      "source": [
        "<h2 id=\"data_exploration\">Data Exploration</h2>\n",
        "Lets first have a descriptive exploration on our data."
      ]
    },
    {
      "cell_type": "code",
      "metadata": {
        "button": false,
        "deletable": true,
        "new_sheet": false,
        "run_control": {
          "read_only": false
        },
        "id": "nqQx7X7oLcfR",
        "colab": {
          "base_uri": "https://localhost:8080/",
          "height": 317
        },
        "outputId": "fb82db72-8bec-4a05-8dbd-df5ef6b0014a"
      },
      "source": [
        "# summarize the data\n",
        "df.describe()"
      ],
      "execution_count": null,
      "outputs": [
        {
          "output_type": "execute_result",
          "data": {
            "text/html": [
              "<div>\n",
              "<style scoped>\n",
              "    .dataframe tbody tr th:only-of-type {\n",
              "        vertical-align: middle;\n",
              "    }\n",
              "\n",
              "    .dataframe tbody tr th {\n",
              "        vertical-align: top;\n",
              "    }\n",
              "\n",
              "    .dataframe thead th {\n",
              "        text-align: right;\n",
              "    }\n",
              "</style>\n",
              "<table border=\"1\" class=\"dataframe\">\n",
              "  <thead>\n",
              "    <tr style=\"text-align: right;\">\n",
              "      <th></th>\n",
              "      <th>tipo_cambio_bna_vendedor</th>\n",
              "      <th>tipo_cambio_a3500</th>\n",
              "      <th>tipo_cambio_mae</th>\n",
              "      <th>volumen_mae</th>\n",
              "      <th>tipo_cambio_implicito_en_adrs</th>\n",
              "      <th>futuro_rofex_usd1m</th>\n",
              "      <th>interes_abierto_1m</th>\n",
              "      <th>futuro_rofex_usd2m</th>\n",
              "      <th>interes_abierto_2m</th>\n",
              "      <th>futuro_rofex_usd3m</th>\n",
              "      <th>interes_abierto_3m</th>\n",
              "      <th>futuro_rofex_usd4m</th>\n",
              "      <th>interes_abierto_4m</th>\n",
              "      <th>futuro_rofex_usd5m</th>\n",
              "      <th>interes_abierto_5m</th>\n",
              "      <th>futuro_rofex_usd6m</th>\n",
              "      <th>interes_abierto_6m</th>\n",
              "    </tr>\n",
              "  </thead>\n",
              "  <tbody>\n",
              "    <tr>\n",
              "      <th>count</th>\n",
              "      <td>2004.000000</td>\n",
              "      <td>6630.000000</td>\n",
              "      <td>4319.000000</td>\n",
              "      <td>2.914000e+03</td>\n",
              "      <td>6628.000000</td>\n",
              "      <td>4134.000000</td>\n",
              "      <td>4.134000e+03</td>\n",
              "      <td>4134.000000</td>\n",
              "      <td>4.134000e+03</td>\n",
              "      <td>4134.000000</td>\n",
              "      <td>4.134000e+03</td>\n",
              "      <td>4134.000000</td>\n",
              "      <td>4.134000e+03</td>\n",
              "      <td>4134.000000</td>\n",
              "      <td>4.134000e+03</td>\n",
              "      <td>4134.000000</td>\n",
              "      <td>4.134000e+03</td>\n",
              "    </tr>\n",
              "    <tr>\n",
              "      <th>mean</th>\n",
              "      <td>25.841584</td>\n",
              "      <td>10.366523</td>\n",
              "      <td>14.266189</td>\n",
              "      <td>2.262291e+05</td>\n",
              "      <td>11.724610</td>\n",
              "      <td>14.987071</td>\n",
              "      <td>6.845070e+05</td>\n",
              "      <td>15.508182</td>\n",
              "      <td>5.908438e+05</td>\n",
              "      <td>16.026823</td>\n",
              "      <td>4.472797e+05</td>\n",
              "      <td>16.516076</td>\n",
              "      <td>3.421848e+05</td>\n",
              "      <td>16.986934</td>\n",
              "      <td>2.726487e+05</td>\n",
              "      <td>17.443491</td>\n",
              "      <td>2.220780e+05</td>\n",
              "    </tr>\n",
              "    <tr>\n",
              "      <th>std</th>\n",
              "      <td>17.776766</td>\n",
              "      <td>13.634311</td>\n",
              "      <td>15.544311</td>\n",
              "      <td>1.463311e+05</td>\n",
              "      <td>16.498031</td>\n",
              "      <td>16.074141</td>\n",
              "      <td>4.753874e+05</td>\n",
              "      <td>16.978324</td>\n",
              "      <td>4.351806e+05</td>\n",
              "      <td>17.886867</td>\n",
              "      <td>3.935401e+05</td>\n",
              "      <td>18.710239</td>\n",
              "      <td>3.505601e+05</td>\n",
              "      <td>19.480189</td>\n",
              "      <td>2.780845e+05</td>\n",
              "      <td>20.204250</td>\n",
              "      <td>2.731611e+05</td>\n",
              "    </tr>\n",
              "    <tr>\n",
              "      <th>min</th>\n",
              "      <td>8.490000</td>\n",
              "      <td>1.991700</td>\n",
              "      <td>3.012000</td>\n",
              "      <td>5.000000e+02</td>\n",
              "      <td>2.180124</td>\n",
              "      <td>3.468000</td>\n",
              "      <td>1.300000e+01</td>\n",
              "      <td>3.508000</td>\n",
              "      <td>2.870000e+02</td>\n",
              "      <td>3.549000</td>\n",
              "      <td>2.002200e+04</td>\n",
              "      <td>3.592000</td>\n",
              "      <td>3.279600e+04</td>\n",
              "      <td>3.628000</td>\n",
              "      <td>2.900000e+04</td>\n",
              "      <td>3.667000</td>\n",
              "      <td>8.305000e+03</td>\n",
              "    </tr>\n",
              "    <tr>\n",
              "      <th>25%</th>\n",
              "      <td>14.400000</td>\n",
              "      <td>3.100225</td>\n",
              "      <td>4.091000</td>\n",
              "      <td>1.210000e+05</td>\n",
              "      <td>3.099870</td>\n",
              "      <td>4.259750</td>\n",
              "      <td>3.887132e+05</td>\n",
              "      <td>4.307000</td>\n",
              "      <td>3.351540e+05</td>\n",
              "      <td>4.351000</td>\n",
              "      <td>2.689860e+05</td>\n",
              "      <td>4.398000</td>\n",
              "      <td>1.890950e+05</td>\n",
              "      <td>4.444000</td>\n",
              "      <td>1.390000e+05</td>\n",
              "      <td>4.493000</td>\n",
              "      <td>9.169875e+04</td>\n",
              "    </tr>\n",
              "    <tr>\n",
              "      <th>50%</th>\n",
              "      <td>17.400000</td>\n",
              "      <td>4.050000</td>\n",
              "      <td>8.080000</td>\n",
              "      <td>1.885350e+05</td>\n",
              "      <td>4.244554</td>\n",
              "      <td>8.444500</td>\n",
              "      <td>5.522720e+05</td>\n",
              "      <td>8.607500</td>\n",
              "      <td>4.780690e+05</td>\n",
              "      <td>8.770000</td>\n",
              "      <td>3.436425e+05</td>\n",
              "      <td>8.960000</td>\n",
              "      <td>2.544520e+05</td>\n",
              "      <td>9.190500</td>\n",
              "      <td>1.954950e+05</td>\n",
              "      <td>9.410000</td>\n",
              "      <td>1.491920e+05</td>\n",
              "    </tr>\n",
              "    <tr>\n",
              "      <th>75%</th>\n",
              "      <td>38.600000</td>\n",
              "      <td>9.482300</td>\n",
              "      <td>15.965500</td>\n",
              "      <td>3.015375e+05</td>\n",
              "      <td>13.877961</td>\n",
              "      <td>16.577250</td>\n",
              "      <td>8.237945e+05</td>\n",
              "      <td>16.817000</td>\n",
              "      <td>6.742675e+05</td>\n",
              "      <td>17.088750</td>\n",
              "      <td>4.908165e+05</td>\n",
              "      <td>17.343750</td>\n",
              "      <td>3.659482e+05</td>\n",
              "      <td>17.610000</td>\n",
              "      <td>2.964200e+05</td>\n",
              "      <td>17.868750</td>\n",
              "      <td>2.576450e+05</td>\n",
              "    </tr>\n",
              "    <tr>\n",
              "      <th>max</th>\n",
              "      <td>68.500000</td>\n",
              "      <td>66.635000</td>\n",
              "      <td>66.630000</td>\n",
              "      <td>1.546850e+06</td>\n",
              "      <td>117.622260</td>\n",
              "      <td>66.950000</td>\n",
              "      <td>3.517970e+06</td>\n",
              "      <td>72.300000</td>\n",
              "      <td>3.473273e+06</td>\n",
              "      <td>79.100000</td>\n",
              "      <td>3.430609e+06</td>\n",
              "      <td>85.200000</td>\n",
              "      <td>3.436969e+06</td>\n",
              "      <td>89.999000</td>\n",
              "      <td>2.763188e+06</td>\n",
              "      <td>93.998000</td>\n",
              "      <td>2.766503e+06</td>\n",
              "    </tr>\n",
              "  </tbody>\n",
              "</table>\n",
              "</div>"
            ],
            "text/plain": [
              "       tipo_cambio_bna_vendedor  ...  interes_abierto_6m\n",
              "count               2004.000000  ...        4.134000e+03\n",
              "mean                  25.841584  ...        2.220780e+05\n",
              "std                   17.776766  ...        2.731611e+05\n",
              "min                    8.490000  ...        8.305000e+03\n",
              "25%                   14.400000  ...        9.169875e+04\n",
              "50%                   17.400000  ...        1.491920e+05\n",
              "75%                   38.600000  ...        2.576450e+05\n",
              "max                   68.500000  ...        2.766503e+06\n",
              "\n",
              "[8 rows x 17 columns]"
            ]
          },
          "metadata": {
            "tags": []
          },
          "execution_count": 5
        }
      ]
    },
    {
      "cell_type": "markdown",
      "metadata": {
        "id": "oijnZ0RqLcfc"
      },
      "source": [
        "Lets select some features to explore more."
      ]
    },
    {
      "cell_type": "code",
      "metadata": {
        "button": false,
        "deletable": true,
        "new_sheet": false,
        "run_control": {
          "read_only": false
        },
        "id": "Q-piOVxzLcfe"
      },
      "source": [
        "cdf = df[['ENGINESIZE','CYLINDERS','FUELCONSUMPTION_COMB','CO2EMISSIONS']]\n",
        "cdf.head(9)"
      ],
      "execution_count": null,
      "outputs": []
    },
    {
      "cell_type": "markdown",
      "metadata": {
        "id": "LFNl2dbALcfr"
      },
      "source": [
        "we can plot each of these features:"
      ]
    },
    {
      "cell_type": "code",
      "metadata": {
        "button": false,
        "deletable": true,
        "new_sheet": false,
        "run_control": {
          "read_only": false
        },
        "id": "zu9bUR_CLcft"
      },
      "source": [
        "viz = cdf[['CYLINDERS','ENGINESIZE','CO2EMISSIONS','FUELCONSUMPTION_COMB']]\n",
        "viz.hist()\n",
        "plt.show()"
      ],
      "execution_count": null,
      "outputs": []
    },
    {
      "cell_type": "markdown",
      "metadata": {
        "id": "Ypw7pJUaLcf5"
      },
      "source": [
        "Now, lets plot each of these features vs the Emission, to see how linear is their relation:"
      ]
    },
    {
      "cell_type": "code",
      "metadata": {
        "button": false,
        "deletable": true,
        "new_sheet": false,
        "run_control": {
          "read_only": false
        },
        "id": "pK21u0vxLcf8"
      },
      "source": [
        "plt.scatter(cdf.FUELCONSUMPTION_COMB, cdf.CO2EMISSIONS,  color='blue')\n",
        "plt.xlabel(\"FUELCONSUMPTION_COMB\")\n",
        "plt.ylabel(\"Emission\")\n",
        "plt.show()"
      ],
      "execution_count": null,
      "outputs": []
    },
    {
      "cell_type": "code",
      "metadata": {
        "button": false,
        "deletable": true,
        "new_sheet": false,
        "run_control": {
          "read_only": false
        },
        "scrolled": true,
        "id": "qN-2jcBuLcgk"
      },
      "source": [
        "plt.scatter(cdf.ENGINESIZE, cdf.CO2EMISSIONS,  color='blue')\n",
        "plt.xlabel(\"Engine size\")\n",
        "plt.ylabel(\"Emission\")\n",
        "plt.show()"
      ],
      "execution_count": null,
      "outputs": []
    },
    {
      "cell_type": "markdown",
      "metadata": {
        "id": "_VuEPUJ9Lcgy"
      },
      "source": [
        "## Practice\n",
        "plot __CYLINDER__ vs the Emission, to see how linear is their relation:"
      ]
    },
    {
      "cell_type": "code",
      "metadata": {
        "button": false,
        "deletable": true,
        "new_sheet": false,
        "run_control": {
          "read_only": false
        },
        "id": "TKVQwGpfLcg0"
      },
      "source": [
        "# write your code here\n"
      ],
      "execution_count": null,
      "outputs": []
    },
    {
      "cell_type": "markdown",
      "metadata": {
        "id": "KzVe-IAkLchE"
      },
      "source": [
        "Double-click __here__ for the solution.\n",
        "\n",
        "<!-- Your answer is below:\n",
        "    \n",
        "plt.scatter(cdf.CYLINDERS, cdf.CO2EMISSIONS, color='blue')\n",
        "plt.xlabel(\"Cylinders\")\n",
        "plt.ylabel(\"Emission\")\n",
        "plt.show()\n",
        "\n",
        "-->"
      ]
    },
    {
      "cell_type": "markdown",
      "metadata": {
        "button": false,
        "deletable": true,
        "new_sheet": false,
        "run_control": {
          "read_only": false
        },
        "id": "d5qAuRSMLchG"
      },
      "source": [
        "#### Creating train and test dataset\n",
        "Train/Test Split involves splitting the dataset into training and testing sets respectively, which are mutually exclusive. After which, you train with the training set and test with the testing set. \n",
        "This will provide a more accurate evaluation on out-of-sample accuracy because the testing dataset is not part of the dataset that have been used to train the data. It is more realistic for real world problems.\n",
        "\n",
        "This means that we know the outcome of each data point in this dataset, making it great to test with! And since this data has not been used to train the model, the model has no knowledge of the outcome of these data points. So, in essence, it is truly an out-of-sample testing.\n",
        "\n",
        "Lets split our dataset into train and test sets, 80% of the entire data for training, and the 20% for testing. We create a mask to select random rows using __np.random.rand()__ function: "
      ]
    },
    {
      "cell_type": "code",
      "metadata": {
        "button": false,
        "deletable": true,
        "new_sheet": false,
        "run_control": {
          "read_only": false
        },
        "id": "B7TObnaTLchH"
      },
      "source": [
        "msk = np.random.rand(len(df)) < 0.8\n",
        "train = cdf[msk]\n",
        "test = cdf[~msk]"
      ],
      "execution_count": null,
      "outputs": []
    },
    {
      "cell_type": "markdown",
      "metadata": {
        "button": false,
        "deletable": true,
        "new_sheet": false,
        "run_control": {
          "read_only": false
        },
        "id": "TQX0yQNcLchU"
      },
      "source": [
        "<h2 id=\"simple_regression\">Simple Regression Model</h2>\n",
        "Linear Regression fits a linear model with coefficients $\\theta = (\\theta_1, ..., \\theta_n)$ to minimize the 'residual sum of squares' between the independent x in the dataset, and the dependent y by the linear approximation. "
      ]
    },
    {
      "cell_type": "markdown",
      "metadata": {
        "button": false,
        "deletable": true,
        "new_sheet": false,
        "run_control": {
          "read_only": false
        },
        "id": "uvJzBqHNLchY"
      },
      "source": [
        "#### Train data distribution"
      ]
    },
    {
      "cell_type": "code",
      "metadata": {
        "button": false,
        "deletable": true,
        "new_sheet": false,
        "run_control": {
          "read_only": false
        },
        "id": "h2ND2t-bLchZ"
      },
      "source": [
        "plt.scatter(train.ENGINESIZE, train.CO2EMISSIONS,  color='blue')\n",
        "plt.xlabel(\"Engine size\")\n",
        "plt.ylabel(\"Emission\")\n",
        "plt.show()"
      ],
      "execution_count": null,
      "outputs": []
    },
    {
      "cell_type": "markdown",
      "metadata": {
        "button": false,
        "deletable": true,
        "new_sheet": false,
        "run_control": {
          "read_only": false
        },
        "id": "V0_8hqXZLchn"
      },
      "source": [
        "#### Modeling\n",
        "Using sklearn package to model data."
      ]
    },
    {
      "cell_type": "code",
      "metadata": {
        "button": false,
        "deletable": true,
        "new_sheet": false,
        "run_control": {
          "read_only": false
        },
        "id": "fxnYU9iwLchp"
      },
      "source": [
        "from sklearn import linear_model\n",
        "regr = linear_model.LinearRegression()\n",
        "train_x = np.asanyarray(train[['ENGINESIZE']])\n",
        "train_y = np.asanyarray(train[['CO2EMISSIONS']])\n",
        "regr.fit (train_x, train_y)\n",
        "# The coefficients\n",
        "print ('Coefficients: ', regr.coef_)\n",
        "print ('Intercept: ',regr.intercept_)"
      ],
      "execution_count": null,
      "outputs": []
    },
    {
      "cell_type": "markdown",
      "metadata": {
        "id": "I8vftzB0Lch3"
      },
      "source": [
        "As mentioned before, __Coefficient__ and __Intercept__ in the simple linear regression, are the parameters of the fit line. \n",
        "Given that it is a simple linear regression, with only 2 parameters, and knowing that the parameters are the intercept and slope of the line, sklearn can estimate them directly from our data. \n",
        "Notice that all of the data must be available to traverse and calculate the parameters.\n"
      ]
    },
    {
      "cell_type": "markdown",
      "metadata": {
        "button": false,
        "deletable": true,
        "new_sheet": false,
        "run_control": {
          "read_only": false
        },
        "id": "GTb50OoQLch5"
      },
      "source": [
        "#### Plot outputs"
      ]
    },
    {
      "cell_type": "markdown",
      "metadata": {
        "id": "ekX7Jjt5Lch8"
      },
      "source": [
        "we can plot the fit line over the data:"
      ]
    },
    {
      "cell_type": "code",
      "metadata": {
        "button": false,
        "deletable": true,
        "new_sheet": false,
        "run_control": {
          "read_only": false
        },
        "id": "xPpENHXrLch9"
      },
      "source": [
        "plt.scatter(train.ENGINESIZE, train.CO2EMISSIONS,  color='blue')\n",
        "plt.plot(train_x, regr.coef_[0][0]*train_x + regr.intercept_[0], '-r')\n",
        "plt.xlabel(\"Engine size\")\n",
        "plt.ylabel(\"Emission\")"
      ],
      "execution_count": null,
      "outputs": []
    },
    {
      "cell_type": "markdown",
      "metadata": {
        "button": false,
        "deletable": true,
        "new_sheet": false,
        "run_control": {
          "read_only": false
        },
        "id": "Bpf54kg6LciR"
      },
      "source": [
        "#### Evaluation\n",
        "we compare the actual values and predicted values to calculate the accuracy of a regression model. Evaluation metrics provide a key role in the development of a model, as it provides insight to areas that require improvement.\n",
        "\n",
        "There are different model evaluation metrics, lets use MSE here to calculate the accuracy of our model based on the test set: \n",
        "<ul>\n",
        "    <li> Mean absolute error: It is the mean of the absolute value of the errors. This is the easiest of the metrics to understand since it’s just average error.</li>\n",
        "    <li> Mean Squared Error (MSE): Mean Squared Error (MSE) is the mean of the squared error. It’s more popular than Mean absolute error because the focus is geared more towards large errors. This is due to the squared term exponentially increasing larger errors in comparison to smaller ones.</li>\n",
        "    <li> Root Mean Squared Error (RMSE): This is the square root of the Mean Square Error. </li>\n",
        "    <li> R-squared is not error, but is a popular metric for accuracy of your model. It represents how close the data are to the fitted regression line. The higher the R-squared, the better the model fits your data. Best possible score is 1.0 and it can be negative (because the model can be arbitrarily worse).</li>\n",
        "</ul>"
      ]
    },
    {
      "cell_type": "code",
      "metadata": {
        "button": false,
        "deletable": true,
        "new_sheet": false,
        "run_control": {
          "read_only": false
        },
        "scrolled": true,
        "id": "auxFxZX0LciX"
      },
      "source": [
        "from sklearn.metrics import r2_score\n",
        "\n",
        "test_x = np.asanyarray(test[['ENGINESIZE']])\n",
        "test_y = np.asanyarray(test[['CO2EMISSIONS']])\n",
        "test_y_hat = regr.predict(test_x)\n",
        "\n",
        "print(\"Mean absolute error: %.2f\" % np.mean(np.absolute(test_y_hat - test_y)))\n",
        "print(\"Residual sum of squares (MSE): %.2f\" % np.mean((test_y_hat - test_y) ** 2))\n",
        "print(\"R2-score: %.2f\" % r2_score(test_y_hat , test_y) )"
      ],
      "execution_count": null,
      "outputs": []
    },
    {
      "cell_type": "markdown",
      "metadata": {
        "button": false,
        "deletable": true,
        "new_sheet": false,
        "run_control": {
          "read_only": false
        },
        "id": "bocJwrVDLcis"
      },
      "source": [
        "<h2>Want to learn more?</h2>\n",
        "\n",
        "IBM SPSS Modeler is a comprehensive analytics platform that has many machine learning algorithms. It has been designed to bring predictive intelligence to decisions made by individuals, by groups, by systems – by your enterprise as a whole. A free trial is available through this course, available here: <a href=\"http://cocl.us/ML0101EN-SPSSModeler\">SPSS Modeler</a>\n",
        "\n",
        "Also, you can use Watson Studio to run these notebooks faster with bigger datasets. Watson Studio is IBM's leading cloud solution for data scientists, built by data scientists. With Jupyter notebooks, RStudio, Apache Spark and popular libraries pre-packaged in the cloud, Watson Studio enables data scientists to collaborate on their projects without having to install anything. Join the fast-growing community of Watson Studio users today with a free account at <a href=\"https://cocl.us/ML0101EN_DSX\">Watson Studio</a>\n",
        "\n",
        "<h3>Thanks for completing this lesson!</h3>\n",
        "\n",
        "<h4>Author:  <a href=\"https://ca.linkedin.com/in/saeedaghabozorgi\">Saeed Aghabozorgi</a></h4>\n",
        "<p><a href=\"https://ca.linkedin.com/in/saeedaghabozorgi\">Saeed Aghabozorgi</a>, PhD is a Data Scientist in IBM with a track record of developing enterprise level applications that substantially increases clients’ ability to turn data into actionable knowledge. He is a researcher in data mining field and expert in developing advanced analytic methods like machine learning and statistical modelling on large datasets.</p>\n",
        "\n",
        "<hr>\n",
        "\n",
        "<p>Copyright &copy; 2018 <a href=\"https://cocl.us/DX0108EN_CC\">Cognitive Class</a>. This notebook and its source code are released under the terms of the <a href=\"https://bigdatauniversity.com/mit-license/\">MIT License</a>.</p>"
      ]
    }
  ]
}