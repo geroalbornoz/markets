{
  "nbformat": 4,
  "nbformat_minor": 0,
  "metadata": {
    "kernelspec": {
      "display_name": "Python 3",
      "language": "python",
      "name": "python3"
    },
    "language_info": {
      "codemirror_mode": {
        "name": "ipython",
        "version": 3
      },
      "file_extension": ".py",
      "mimetype": "text/x-python",
      "name": "python",
      "nbconvert_exporter": "python",
      "pygments_lexer": "ipython3",
      "version": "3.6.6"
    },
    "colab": {
      "name": "Arg-Merval/USD-Simple-Linear-Regression.ipynb",
      "provenance": [],
      "collapsed_sections": [],
      "include_colab_link": true
    }
  },
  "cells": [
    {
      "cell_type": "markdown",
      "metadata": {
        "id": "view-in-github",
        "colab_type": "text"
      },
      "source": [
        "<a href=\"https://colab.research.google.com/github/geroalbornoz/markets/blob/master/Arg_Merval_USD_Simple_Linear_Regression.ipynb\" target=\"_parent\"><img src=\"https://colab.research.google.com/assets/colab-badge.svg\" alt=\"Open In Colab\"/></a>"
      ]
    },
    {
      "cell_type": "markdown",
      "metadata": {
        "button": false,
        "deletable": true,
        "new_sheet": false,
        "run_control": {
          "read_only": false
        },
        "id": "d--cT6oBNdYV"
      },
      "source": [
        "\n",
        "<h1><center>Análisis de Regresión Linear Simple</center></h1>\n",
        "\n",
        "\n",
        "<h4>About this Notebook</h4>\n",
        "In this notebook, we learn how to use scikit-learn to implement simple linear regression. We download a dataset. Then, we split our data into training and test sets, create a model using training set, evaluate your model using test set, and finally use model to predict unknown value.\n"
      ]
    },
    {
      "cell_type": "markdown",
      "metadata": {
        "button": false,
        "deletable": true,
        "new_sheet": false,
        "run_control": {
          "read_only": false
        },
        "id": "A5_0erHpNdYX"
      },
      "source": [
        "### Importing Needed packages"
      ]
    },
    {
      "cell_type": "code",
      "metadata": {
        "button": false,
        "deletable": true,
        "new_sheet": false,
        "run_control": {
          "read_only": false
        },
        "id": "3_F3X2I9NdYY"
      },
      "source": [
        "import matplotlib.pyplot as plt\n",
        "import pandas as pd\n",
        "import pylab as pl\n",
        "import numpy as np\n",
        "import seaborn as sns\n",
        "%matplotlib inline\n",
        "plt.rcParams['figure.figsize'] = (19,9)"
      ],
      "execution_count": 51,
      "outputs": []
    },
    {
      "cell_type": "markdown",
      "metadata": {
        "button": false,
        "deletable": true,
        "new_sheet": false,
        "run_control": {
          "read_only": false
        },
        "id": "c-tlIeP5NdYc"
      },
      "source": [
        "### Downloading Data\n",
        "To download the data, we will use !wget to download it from IBM Object Storage."
      ]
    },
    {
      "cell_type": "code",
      "metadata": {
        "button": false,
        "deletable": true,
        "new_sheet": false,
        "run_control": {
          "read_only": false
        },
        "id": "bSqjCECGNdYd",
        "colab": {
          "base_uri": "https://localhost:8080/"
        },
        "outputId": "a75a6f37-ad67-42dc-eed4-a4a595501865"
      },
      "source": [
        "!wget -O dolares.csv https://infra.datos.gob.ar/catalog/sspm/dataset/168/distribution/168.1/download/datos-tipo-cambio-usd-futuro-dolar-frecuencia-diaria.csv"
      ],
      "execution_count": 52,
      "outputs": [
        {
          "output_type": "stream",
          "text": [
            "--2021-01-13 19:27:16--  https://infra.datos.gob.ar/catalog/sspm/dataset/168/distribution/168.1/download/datos-tipo-cambio-usd-futuro-dolar-frecuencia-diaria.csv\n",
            "Resolving infra.datos.gob.ar (infra.datos.gob.ar)... 186.33.215.176\n",
            "Connecting to infra.datos.gob.ar (infra.datos.gob.ar)|186.33.215.176|:443... connected.\n",
            "HTTP request sent, awaiting response... 200 OK\n",
            "Length: 758851 (741K) [text/csv]\n",
            "Saving to: ‘dolares.csv’\n",
            "\n",
            "dolares.csv         100%[===================>] 741.07K  1.04MB/s    in 0.7s    \n",
            "\n",
            "2021-01-13 19:27:18 (1.04 MB/s) - ‘dolares.csv’ saved [758851/758851]\n",
            "\n"
          ],
          "name": "stdout"
        }
      ]
    },
    {
      "cell_type": "code",
      "metadata": {
        "id": "Uqm_k9QMOJP9",
        "colab": {
          "base_uri": "https://localhost:8080/"
        },
        "outputId": "652139b2-ed5d-466c-c422-30c5c338a7f2"
      },
      "source": [
        "!wget -O indices.csv https://infra.datos.gob.ar/catalog/sspm/dataset/169/distribution/169.1/download/indices-bursatiles-argentina-indices-cotizaciones.csv"
      ],
      "execution_count": 29,
      "outputs": [
        {
          "output_type": "stream",
          "text": [
            "--2021-01-13 19:27:12--  https://infra.datos.gob.ar/catalog/sspm/dataset/169/distribution/169.1/download/indices-bursatiles-argentina-indices-cotizaciones.csv\n",
            "Resolving infra.datos.gob.ar (infra.datos.gob.ar)... 186.33.215.176\n",
            "Connecting to infra.datos.gob.ar (infra.datos.gob.ar)|186.33.215.176|:443... connected.\n",
            "HTTP request sent, awaiting response... 200 OK\n",
            "Length: 236227 (231K) [text/csv]\n",
            "Saving to: ‘indices.csv’\n",
            "\n",
            "indices.csv         100%[===================>] 230.69K   427KB/s    in 0.5s    \n",
            "\n",
            "2021-01-13 19:27:13 (427 KB/s) - ‘indices.csv’ saved [236227/236227]\n",
            "\n"
          ],
          "name": "stdout"
        }
      ]
    },
    {
      "cell_type": "markdown",
      "metadata": {
        "button": false,
        "deletable": true,
        "new_sheet": false,
        "run_control": {
          "read_only": false
        },
        "id": "pD_iuT_dNdYh"
      },
      "source": [
        "<h2 id=\"reading_data\">Reading the data in</h2>"
      ]
    },
    {
      "cell_type": "code",
      "metadata": {
        "id": "PIpmNuUbQzi6"
      },
      "source": [
        "df1 = pd.read_csv(\"dolares.csv\") #info historica de tipos de cambio"
      ],
      "execution_count": 53,
      "outputs": []
    },
    {
      "cell_type": "code",
      "metadata": {
        "id": "3iwPeWgqRQC5"
      },
      "source": [
        "df2 = pd.read_csv(\"indices.csv\") #info historica de indices"
      ],
      "execution_count": 54,
      "outputs": []
    },
    {
      "cell_type": "markdown",
      "metadata": {
        "id": "qkxD1XIGQXrY"
      },
      "source": [
        "**Explorando el Primer Data Set**"
      ]
    },
    {
      "cell_type": "code",
      "metadata": {
        "id": "hi5AzwAUQ-fx",
        "colab": {
          "base_uri": "https://localhost:8080/",
          "height": 399
        },
        "outputId": "87318178-fa9b-4f10-cb0b-4c6fa930965b"
      },
      "source": [
        "df1.tail()"
      ],
      "execution_count": 55,
      "outputs": [
        {
          "output_type": "execute_result",
          "data": {
            "text/html": [
              "<div>\n",
              "<style scoped>\n",
              "    .dataframe tbody tr th:only-of-type {\n",
              "        vertical-align: middle;\n",
              "    }\n",
              "\n",
              "    .dataframe tbody tr th {\n",
              "        vertical-align: top;\n",
              "    }\n",
              "\n",
              "    .dataframe thead th {\n",
              "        text-align: right;\n",
              "    }\n",
              "</style>\n",
              "<table border=\"1\" class=\"dataframe\">\n",
              "  <thead>\n",
              "    <tr style=\"text-align: right;\">\n",
              "      <th></th>\n",
              "      <th>indice_tiempo</th>\n",
              "      <th>tipo_cambio_bna_vendedor</th>\n",
              "      <th>tipo_cambio_a3500</th>\n",
              "      <th>tipo_cambio_mae</th>\n",
              "      <th>volumen_mae</th>\n",
              "      <th>tipo_cambio_implicito_en_adrs</th>\n",
              "      <th>futuro_rofex_usd1m</th>\n",
              "      <th>interes_abierto_1m</th>\n",
              "      <th>futuro_rofex_usd2m</th>\n",
              "      <th>interes_abierto_2m</th>\n",
              "      <th>futuro_rofex_usd3m</th>\n",
              "      <th>interes_abierto_3m</th>\n",
              "      <th>futuro_rofex_usd4m</th>\n",
              "      <th>interes_abierto_4m</th>\n",
              "      <th>futuro_rofex_usd5m</th>\n",
              "      <th>interes_abierto_5m</th>\n",
              "      <th>futuro_rofex_usd6m</th>\n",
              "      <th>interes_abierto_6m</th>\n",
              "    </tr>\n",
              "  </thead>\n",
              "  <tbody>\n",
              "    <tr>\n",
              "      <th>6842</th>\n",
              "      <td>2020-11-27</td>\n",
              "      <td>86.25</td>\n",
              "      <td>81.0383</td>\n",
              "      <td>81.07</td>\n",
              "      <td>119720.0</td>\n",
              "      <td>150.055127</td>\n",
              "      <td>81.29</td>\n",
              "      <td>1593132.0</td>\n",
              "      <td>85.05</td>\n",
              "      <td>2028840.0</td>\n",
              "      <td>90.22</td>\n",
              "      <td>845587.0</td>\n",
              "      <td>95.00</td>\n",
              "      <td>482926.0</td>\n",
              "      <td>100.90</td>\n",
              "      <td>140913.0</td>\n",
              "      <td>106.90</td>\n",
              "      <td>59559.0</td>\n",
              "    </tr>\n",
              "    <tr>\n",
              "      <th>6843</th>\n",
              "      <td>2020-11-28</td>\n",
              "      <td>86.25</td>\n",
              "      <td>81.0383</td>\n",
              "      <td>81.07</td>\n",
              "      <td>NaN</td>\n",
              "      <td>150.055127</td>\n",
              "      <td>81.29</td>\n",
              "      <td>1593132.0</td>\n",
              "      <td>85.05</td>\n",
              "      <td>2028840.0</td>\n",
              "      <td>90.22</td>\n",
              "      <td>845587.0</td>\n",
              "      <td>95.00</td>\n",
              "      <td>482926.0</td>\n",
              "      <td>100.90</td>\n",
              "      <td>140913.0</td>\n",
              "      <td>106.90</td>\n",
              "      <td>59559.0</td>\n",
              "    </tr>\n",
              "    <tr>\n",
              "      <th>6844</th>\n",
              "      <td>2020-11-29</td>\n",
              "      <td>86.25</td>\n",
              "      <td>81.0383</td>\n",
              "      <td>81.07</td>\n",
              "      <td>NaN</td>\n",
              "      <td>150.055127</td>\n",
              "      <td>81.29</td>\n",
              "      <td>1593132.0</td>\n",
              "      <td>85.05</td>\n",
              "      <td>2028840.0</td>\n",
              "      <td>90.22</td>\n",
              "      <td>845587.0</td>\n",
              "      <td>95.00</td>\n",
              "      <td>482926.0</td>\n",
              "      <td>100.90</td>\n",
              "      <td>140913.0</td>\n",
              "      <td>106.90</td>\n",
              "      <td>59559.0</td>\n",
              "    </tr>\n",
              "    <tr>\n",
              "      <th>6845</th>\n",
              "      <td>2020-11-30</td>\n",
              "      <td>86.50</td>\n",
              "      <td>81.2967</td>\n",
              "      <td>81.31</td>\n",
              "      <td>120100.0</td>\n",
              "      <td>151.684088</td>\n",
              "      <td>81.30</td>\n",
              "      <td>1593132.0</td>\n",
              "      <td>84.73</td>\n",
              "      <td>2325868.0</td>\n",
              "      <td>89.98</td>\n",
              "      <td>892438.0</td>\n",
              "      <td>94.85</td>\n",
              "      <td>492578.0</td>\n",
              "      <td>100.55</td>\n",
              "      <td>141654.0</td>\n",
              "      <td>106.48</td>\n",
              "      <td>72337.0</td>\n",
              "    </tr>\n",
              "    <tr>\n",
              "      <th>6846</th>\n",
              "      <td>2020-12-01</td>\n",
              "      <td>86.50</td>\n",
              "      <td>81.3950</td>\n",
              "      <td>81.43</td>\n",
              "      <td>131150.0</td>\n",
              "      <td>149.153499</td>\n",
              "      <td>84.48</td>\n",
              "      <td>2391037.0</td>\n",
              "      <td>89.83</td>\n",
              "      <td>903726.0</td>\n",
              "      <td>94.63</td>\n",
              "      <td>491250.0</td>\n",
              "      <td>100.20</td>\n",
              "      <td>146151.0</td>\n",
              "      <td>105.80</td>\n",
              "      <td>72472.0</td>\n",
              "      <td>111.40</td>\n",
              "      <td>24495.0</td>\n",
              "    </tr>\n",
              "  </tbody>\n",
              "</table>\n",
              "</div>"
            ],
            "text/plain": [
              "     indice_tiempo  ...  interes_abierto_6m\n",
              "6842    2020-11-27  ...             59559.0\n",
              "6843    2020-11-28  ...             59559.0\n",
              "6844    2020-11-29  ...             59559.0\n",
              "6845    2020-11-30  ...             72337.0\n",
              "6846    2020-12-01  ...             24495.0\n",
              "\n",
              "[5 rows x 18 columns]"
            ]
          },
          "metadata": {
            "tags": []
          },
          "execution_count": 32
        },
        {
          "output_type": "execute_result",
          "data": {
            "text/html": [
              "<div>\n",
              "<style scoped>\n",
              "    .dataframe tbody tr th:only-of-type {\n",
              "        vertical-align: middle;\n",
              "    }\n",
              "\n",
              "    .dataframe tbody tr th {\n",
              "        vertical-align: top;\n",
              "    }\n",
              "\n",
              "    .dataframe thead th {\n",
              "        text-align: right;\n",
              "    }\n",
              "</style>\n",
              "<table border=\"1\" class=\"dataframe\">\n",
              "  <thead>\n",
              "    <tr style=\"text-align: right;\">\n",
              "      <th></th>\n",
              "      <th>indice_tiempo</th>\n",
              "      <th>tipo_cambio_bna_vendedor</th>\n",
              "      <th>tipo_cambio_a3500</th>\n",
              "      <th>tipo_cambio_mae</th>\n",
              "      <th>volumen_mae</th>\n",
              "      <th>tipo_cambio_implicito_en_adrs</th>\n",
              "      <th>futuro_rofex_usd1m</th>\n",
              "      <th>interes_abierto_1m</th>\n",
              "      <th>futuro_rofex_usd2m</th>\n",
              "      <th>interes_abierto_2m</th>\n",
              "      <th>futuro_rofex_usd3m</th>\n",
              "      <th>interes_abierto_3m</th>\n",
              "      <th>futuro_rofex_usd4m</th>\n",
              "      <th>interes_abierto_4m</th>\n",
              "      <th>futuro_rofex_usd5m</th>\n",
              "      <th>interes_abierto_5m</th>\n",
              "      <th>futuro_rofex_usd6m</th>\n",
              "      <th>interes_abierto_6m</th>\n",
              "    </tr>\n",
              "  </thead>\n",
              "  <tbody>\n",
              "    <tr>\n",
              "      <th>6842</th>\n",
              "      <td>2020-11-27</td>\n",
              "      <td>86.25</td>\n",
              "      <td>81.0383</td>\n",
              "      <td>81.07</td>\n",
              "      <td>119720.0</td>\n",
              "      <td>150.055127</td>\n",
              "      <td>81.29</td>\n",
              "      <td>1593132.0</td>\n",
              "      <td>85.05</td>\n",
              "      <td>2028840.0</td>\n",
              "      <td>90.22</td>\n",
              "      <td>845587.0</td>\n",
              "      <td>95.00</td>\n",
              "      <td>482926.0</td>\n",
              "      <td>100.90</td>\n",
              "      <td>140913.0</td>\n",
              "      <td>106.90</td>\n",
              "      <td>59559.0</td>\n",
              "    </tr>\n",
              "    <tr>\n",
              "      <th>6843</th>\n",
              "      <td>2020-11-28</td>\n",
              "      <td>86.25</td>\n",
              "      <td>81.0383</td>\n",
              "      <td>81.07</td>\n",
              "      <td>NaN</td>\n",
              "      <td>150.055127</td>\n",
              "      <td>81.29</td>\n",
              "      <td>1593132.0</td>\n",
              "      <td>85.05</td>\n",
              "      <td>2028840.0</td>\n",
              "      <td>90.22</td>\n",
              "      <td>845587.0</td>\n",
              "      <td>95.00</td>\n",
              "      <td>482926.0</td>\n",
              "      <td>100.90</td>\n",
              "      <td>140913.0</td>\n",
              "      <td>106.90</td>\n",
              "      <td>59559.0</td>\n",
              "    </tr>\n",
              "    <tr>\n",
              "      <th>6844</th>\n",
              "      <td>2020-11-29</td>\n",
              "      <td>86.25</td>\n",
              "      <td>81.0383</td>\n",
              "      <td>81.07</td>\n",
              "      <td>NaN</td>\n",
              "      <td>150.055127</td>\n",
              "      <td>81.29</td>\n",
              "      <td>1593132.0</td>\n",
              "      <td>85.05</td>\n",
              "      <td>2028840.0</td>\n",
              "      <td>90.22</td>\n",
              "      <td>845587.0</td>\n",
              "      <td>95.00</td>\n",
              "      <td>482926.0</td>\n",
              "      <td>100.90</td>\n",
              "      <td>140913.0</td>\n",
              "      <td>106.90</td>\n",
              "      <td>59559.0</td>\n",
              "    </tr>\n",
              "    <tr>\n",
              "      <th>6845</th>\n",
              "      <td>2020-11-30</td>\n",
              "      <td>86.50</td>\n",
              "      <td>81.2967</td>\n",
              "      <td>81.31</td>\n",
              "      <td>120100.0</td>\n",
              "      <td>151.684088</td>\n",
              "      <td>81.30</td>\n",
              "      <td>1593132.0</td>\n",
              "      <td>84.73</td>\n",
              "      <td>2325868.0</td>\n",
              "      <td>89.98</td>\n",
              "      <td>892438.0</td>\n",
              "      <td>94.85</td>\n",
              "      <td>492578.0</td>\n",
              "      <td>100.55</td>\n",
              "      <td>141654.0</td>\n",
              "      <td>106.48</td>\n",
              "      <td>72337.0</td>\n",
              "    </tr>\n",
              "    <tr>\n",
              "      <th>6846</th>\n",
              "      <td>2020-12-01</td>\n",
              "      <td>86.50</td>\n",
              "      <td>81.3950</td>\n",
              "      <td>81.43</td>\n",
              "      <td>131150.0</td>\n",
              "      <td>149.153499</td>\n",
              "      <td>84.48</td>\n",
              "      <td>2391037.0</td>\n",
              "      <td>89.83</td>\n",
              "      <td>903726.0</td>\n",
              "      <td>94.63</td>\n",
              "      <td>491250.0</td>\n",
              "      <td>100.20</td>\n",
              "      <td>146151.0</td>\n",
              "      <td>105.80</td>\n",
              "      <td>72472.0</td>\n",
              "      <td>111.40</td>\n",
              "      <td>24495.0</td>\n",
              "    </tr>\n",
              "  </tbody>\n",
              "</table>\n",
              "</div>"
            ],
            "text/plain": [
              "     indice_tiempo  ...  interes_abierto_6m\n",
              "6842    2020-11-27  ...             59559.0\n",
              "6843    2020-11-28  ...             59559.0\n",
              "6844    2020-11-29  ...             59559.0\n",
              "6845    2020-11-30  ...             72337.0\n",
              "6846    2020-12-01  ...             24495.0\n",
              "\n",
              "[5 rows x 18 columns]"
            ]
          },
          "metadata": {
            "tags": []
          },
          "execution_count": 55
        }
      ]
    },
    {
      "cell_type": "code",
      "metadata": {
        "id": "PfcC9kl4RDnG",
        "colab": {
          "base_uri": "https://localhost:8080/"
        },
        "outputId": "083d8e44-99fe-4fb9-850a-99a3af3758de"
      },
      "source": [
        "df1.columns"
      ],
      "execution_count": 56,
      "outputs": [
        {
          "output_type": "execute_result",
          "data": {
            "text/plain": [
              "Index(['indice_tiempo', 'tipo_cambio_bna_vendedor', 'tipo_cambio_a3500',\n",
              "       'tipo_cambio_mae', 'volumen_mae', 'tipo_cambio_implicito_en_adrs',\n",
              "       'futuro_rofex_usd1m', 'interes_abierto_1m', 'futuro_rofex_usd2m',\n",
              "       'interes_abierto_2m', 'futuro_rofex_usd3m', 'interes_abierto_3m',\n",
              "       'futuro_rofex_usd4m', 'interes_abierto_4m', 'futuro_rofex_usd5m',\n",
              "       'interes_abierto_5m', 'futuro_rofex_usd6m', 'interes_abierto_6m'],\n",
              "      dtype='object')"
            ]
          },
          "metadata": {
            "tags": []
          },
          "execution_count": 33
        },
        {
          "output_type": "execute_result",
          "data": {
            "text/plain": [
              "Index(['indice_tiempo', 'tipo_cambio_bna_vendedor', 'tipo_cambio_a3500',\n",
              "       'tipo_cambio_mae', 'volumen_mae', 'tipo_cambio_implicito_en_adrs',\n",
              "       'futuro_rofex_usd1m', 'interes_abierto_1m', 'futuro_rofex_usd2m',\n",
              "       'interes_abierto_2m', 'futuro_rofex_usd3m', 'interes_abierto_3m',\n",
              "       'futuro_rofex_usd4m', 'interes_abierto_4m', 'futuro_rofex_usd5m',\n",
              "       'interes_abierto_5m', 'futuro_rofex_usd6m', 'interes_abierto_6m'],\n",
              "      dtype='object')"
            ]
          },
          "metadata": {
            "tags": []
          },
          "execution_count": 56
        }
      ]
    },
    {
      "cell_type": "code",
      "metadata": {
        "id": "GwSylPhiRZfI",
        "colab": {
          "base_uri": "https://localhost:8080/"
        },
        "outputId": "62c8c419-e889-43df-acde-46278ffb43b1"
      },
      "source": [
        "df1.shape"
      ],
      "execution_count": 57,
      "outputs": [
        {
          "output_type": "execute_result",
          "data": {
            "text/plain": [
              "(6847, 18)"
            ]
          },
          "metadata": {
            "tags": []
          },
          "execution_count": 34
        },
        {
          "output_type": "execute_result",
          "data": {
            "text/plain": [
              "(6847, 18)"
            ]
          },
          "metadata": {
            "tags": []
          },
          "execution_count": 57
        }
      ]
    },
    {
      "cell_type": "code",
      "metadata": {
        "id": "vyHA40FyiqHH",
        "colab": {
          "base_uri": "https://localhost:8080/"
        },
        "outputId": "d8a70031-4db3-4ad1-e66a-164dbe5a2119"
      },
      "source": [
        "df1.info()"
      ],
      "execution_count": 58,
      "outputs": [
        {
          "output_type": "stream",
          "text": [
            "<class 'pandas.core.frame.DataFrame'>\n",
            "RangeIndex: 6847 entries, 0 to 6846\n",
            "Data columns (total 18 columns):\n",
            " #   Column                         Non-Null Count  Dtype  \n",
            "---  ------                         --------------  -----  \n",
            " 0   indice_tiempo                  6847 non-null   object \n",
            " 1   tipo_cambio_bna_vendedor       2221 non-null   float64\n",
            " 2   tipo_cambio_a3500              6847 non-null   float64\n",
            " 3   tipo_cambio_mae                4536 non-null   float64\n",
            " 4   volumen_mae                    3038 non-null   float64\n",
            " 5   tipo_cambio_implicito_en_adrs  6845 non-null   float64\n",
            " 6   futuro_rofex_usd1m             4351 non-null   float64\n",
            " 7   interes_abierto_1m             4351 non-null   float64\n",
            " 8   futuro_rofex_usd2m             4351 non-null   float64\n",
            " 9   interes_abierto_2m             4351 non-null   float64\n",
            " 10  futuro_rofex_usd3m             4351 non-null   float64\n",
            " 11  interes_abierto_3m             4351 non-null   float64\n",
            " 12  futuro_rofex_usd4m             4351 non-null   float64\n",
            " 13  interes_abierto_4m             4351 non-null   float64\n",
            " 14  futuro_rofex_usd5m             4351 non-null   float64\n",
            " 15  interes_abierto_5m             4351 non-null   float64\n",
            " 16  futuro_rofex_usd6m             4351 non-null   float64\n",
            " 17  interes_abierto_6m             4351 non-null   float64\n",
            "dtypes: float64(17), object(1)\n",
            "memory usage: 963.0+ KB\n",
            "<class 'pandas.core.frame.DataFrame'>\n",
            "RangeIndex: 6847 entries, 0 to 6846\n",
            "Data columns (total 18 columns):\n",
            " #   Column                         Non-Null Count  Dtype  \n",
            "---  ------                         --------------  -----  \n",
            " 0   indice_tiempo                  6847 non-null   object \n",
            " 1   tipo_cambio_bna_vendedor       2221 non-null   float64\n",
            " 2   tipo_cambio_a3500              6847 non-null   float64\n",
            " 3   tipo_cambio_mae                4536 non-null   float64\n",
            " 4   volumen_mae                    3038 non-null   float64\n",
            " 5   tipo_cambio_implicito_en_adrs  6845 non-null   float64\n",
            " 6   futuro_rofex_usd1m             4351 non-null   float64\n",
            " 7   interes_abierto_1m             4351 non-null   float64\n",
            " 8   futuro_rofex_usd2m             4351 non-null   float64\n",
            " 9   interes_abierto_2m             4351 non-null   float64\n",
            " 10  futuro_rofex_usd3m             4351 non-null   float64\n",
            " 11  interes_abierto_3m             4351 non-null   float64\n",
            " 12  futuro_rofex_usd4m             4351 non-null   float64\n",
            " 13  interes_abierto_4m             4351 non-null   float64\n",
            " 14  futuro_rofex_usd5m             4351 non-null   float64\n",
            " 15  interes_abierto_5m             4351 non-null   float64\n",
            " 16  futuro_rofex_usd6m             4351 non-null   float64\n",
            " 17  interes_abierto_6m             4351 non-null   float64\n",
            "dtypes: float64(17), object(1)\n",
            "memory usage: 963.0+ KB\n"
          ],
          "name": "stdout"
        }
      ]
    },
    {
      "cell_type": "markdown",
      "metadata": {
        "id": "frkaDS9cQMLZ"
      },
      "source": [
        "**Explorando el segundo Data Set**"
      ]
    },
    {
      "cell_type": "code",
      "metadata": {
        "button": false,
        "deletable": true,
        "new_sheet": false,
        "run_control": {
          "read_only": false
        },
        "id": "BhYziW_RPFAg",
        "colab": {
          "base_uri": "https://localhost:8080/",
          "height": 379
        },
        "outputId": "88258932-c32a-44d8-b12e-253159909b92"
      },
      "source": [
        "# take a look at the dataset\n",
        "df2.head()"
      ],
      "execution_count": 59,
      "outputs": [
        {
          "output_type": "execute_result",
          "data": {
            "text/html": [
              "<div>\n",
              "<style scoped>\n",
              "    .dataframe tbody tr th:only-of-type {\n",
              "        vertical-align: middle;\n",
              "    }\n",
              "\n",
              "    .dataframe tbody tr th {\n",
              "        vertical-align: top;\n",
              "    }\n",
              "\n",
              "    .dataframe thead th {\n",
              "        text-align: right;\n",
              "    }\n",
              "</style>\n",
              "<table border=\"1\" class=\"dataframe\">\n",
              "  <thead>\n",
              "    <tr style=\"text-align: right;\">\n",
              "      <th></th>\n",
              "      <th>indice_tiempo</th>\n",
              "      <th>bolsa_g</th>\n",
              "      <th>burcap</th>\n",
              "      <th>merval</th>\n",
              "      <th>merval_arg</th>\n",
              "      <th>merval_25</th>\n",
              "    </tr>\n",
              "  </thead>\n",
              "  <tbody>\n",
              "    <tr>\n",
              "      <th>0</th>\n",
              "      <td>2004-10-04</td>\n",
              "      <td>51553.00</td>\n",
              "      <td>2881.26</td>\n",
              "      <td>1167.09</td>\n",
              "      <td>1085.43</td>\n",
              "      <td>1151.0</td>\n",
              "    </tr>\n",
              "    <tr>\n",
              "      <th>1</th>\n",
              "      <td>2004-10-05</td>\n",
              "      <td>50346.26</td>\n",
              "      <td>2830.79</td>\n",
              "      <td>1135.37</td>\n",
              "      <td>1054.10</td>\n",
              "      <td>1151.0</td>\n",
              "    </tr>\n",
              "    <tr>\n",
              "      <th>2</th>\n",
              "      <td>2004-10-06</td>\n",
              "      <td>50553.64</td>\n",
              "      <td>2852.15</td>\n",
              "      <td>1128.00</td>\n",
              "      <td>1046.48</td>\n",
              "      <td>1113.0</td>\n",
              "    </tr>\n",
              "    <tr>\n",
              "      <th>3</th>\n",
              "      <td>2004-10-07</td>\n",
              "      <td>50978.02</td>\n",
              "      <td>2868.16</td>\n",
              "      <td>1140.26</td>\n",
              "      <td>1059.00</td>\n",
              "      <td>1126.0</td>\n",
              "    </tr>\n",
              "    <tr>\n",
              "      <th>4</th>\n",
              "      <td>2004-10-08</td>\n",
              "      <td>50763.08</td>\n",
              "      <td>2853.87</td>\n",
              "      <td>1128.74</td>\n",
              "      <td>1048.06</td>\n",
              "      <td>1115.0</td>\n",
              "    </tr>\n",
              "  </tbody>\n",
              "</table>\n",
              "</div>"
            ],
            "text/plain": [
              "  indice_tiempo   bolsa_g   burcap   merval  merval_arg  merval_25\n",
              "0    2004-10-04  51553.00  2881.26  1167.09     1085.43     1151.0\n",
              "1    2004-10-05  50346.26  2830.79  1135.37     1054.10     1151.0\n",
              "2    2004-10-06  50553.64  2852.15  1128.00     1046.48     1113.0\n",
              "3    2004-10-07  50978.02  2868.16  1140.26     1059.00     1126.0\n",
              "4    2004-10-08  50763.08  2853.87  1128.74     1048.06     1115.0"
            ]
          },
          "metadata": {
            "tags": []
          },
          "execution_count": 36
        },
        {
          "output_type": "execute_result",
          "data": {
            "text/html": [
              "<div>\n",
              "<style scoped>\n",
              "    .dataframe tbody tr th:only-of-type {\n",
              "        vertical-align: middle;\n",
              "    }\n",
              "\n",
              "    .dataframe tbody tr th {\n",
              "        vertical-align: top;\n",
              "    }\n",
              "\n",
              "    .dataframe thead th {\n",
              "        text-align: right;\n",
              "    }\n",
              "</style>\n",
              "<table border=\"1\" class=\"dataframe\">\n",
              "  <thead>\n",
              "    <tr style=\"text-align: right;\">\n",
              "      <th></th>\n",
              "      <th>indice_tiempo</th>\n",
              "      <th>bolsa_g</th>\n",
              "      <th>burcap</th>\n",
              "      <th>merval</th>\n",
              "      <th>merval_arg</th>\n",
              "      <th>merval_25</th>\n",
              "    </tr>\n",
              "  </thead>\n",
              "  <tbody>\n",
              "    <tr>\n",
              "      <th>0</th>\n",
              "      <td>2004-10-04</td>\n",
              "      <td>51553.00</td>\n",
              "      <td>2881.26</td>\n",
              "      <td>1167.09</td>\n",
              "      <td>1085.43</td>\n",
              "      <td>1151.0</td>\n",
              "    </tr>\n",
              "    <tr>\n",
              "      <th>1</th>\n",
              "      <td>2004-10-05</td>\n",
              "      <td>50346.26</td>\n",
              "      <td>2830.79</td>\n",
              "      <td>1135.37</td>\n",
              "      <td>1054.10</td>\n",
              "      <td>1151.0</td>\n",
              "    </tr>\n",
              "    <tr>\n",
              "      <th>2</th>\n",
              "      <td>2004-10-06</td>\n",
              "      <td>50553.64</td>\n",
              "      <td>2852.15</td>\n",
              "      <td>1128.00</td>\n",
              "      <td>1046.48</td>\n",
              "      <td>1113.0</td>\n",
              "    </tr>\n",
              "    <tr>\n",
              "      <th>3</th>\n",
              "      <td>2004-10-07</td>\n",
              "      <td>50978.02</td>\n",
              "      <td>2868.16</td>\n",
              "      <td>1140.26</td>\n",
              "      <td>1059.00</td>\n",
              "      <td>1126.0</td>\n",
              "    </tr>\n",
              "    <tr>\n",
              "      <th>4</th>\n",
              "      <td>2004-10-08</td>\n",
              "      <td>50763.08</td>\n",
              "      <td>2853.87</td>\n",
              "      <td>1128.74</td>\n",
              "      <td>1048.06</td>\n",
              "      <td>1115.0</td>\n",
              "    </tr>\n",
              "  </tbody>\n",
              "</table>\n",
              "</div>"
            ],
            "text/plain": [
              "  indice_tiempo   bolsa_g   burcap   merval  merval_arg  merval_25\n",
              "0    2004-10-04  51553.00  2881.26  1167.09     1085.43     1151.0\n",
              "1    2004-10-05  50346.26  2830.79  1135.37     1054.10     1151.0\n",
              "2    2004-10-06  50553.64  2852.15  1128.00     1046.48     1113.0\n",
              "3    2004-10-07  50978.02  2868.16  1140.26     1059.00     1126.0\n",
              "4    2004-10-08  50763.08  2853.87  1128.74     1048.06     1115.0"
            ]
          },
          "metadata": {
            "tags": []
          },
          "execution_count": 59
        }
      ]
    },
    {
      "cell_type": "code",
      "metadata": {
        "id": "VC6i0TZKP6lu",
        "colab": {
          "base_uri": "https://localhost:8080/"
        },
        "outputId": "3ca792ab-ae0b-48c3-d4ff-406cee9f0535"
      },
      "source": [
        "df2.shape"
      ],
      "execution_count": 60,
      "outputs": [
        {
          "output_type": "execute_result",
          "data": {
            "text/plain": [
              "(5903, 6)"
            ]
          },
          "metadata": {
            "tags": []
          },
          "execution_count": 37
        },
        {
          "output_type": "execute_result",
          "data": {
            "text/plain": [
              "(5903, 6)"
            ]
          },
          "metadata": {
            "tags": []
          },
          "execution_count": 60
        }
      ]
    },
    {
      "cell_type": "code",
      "metadata": {
        "id": "eR78GBwvP92O",
        "colab": {
          "base_uri": "https://localhost:8080/"
        },
        "outputId": "a119ec6c-89e8-4cb6-c10c-28bc2e59dcfb"
      },
      "source": [
        "df2.columns"
      ],
      "execution_count": 61,
      "outputs": [
        {
          "output_type": "execute_result",
          "data": {
            "text/plain": [
              "Index(['indice_tiempo', 'bolsa_g', 'burcap', 'merval', 'merval_arg',\n",
              "       'merval_25'],\n",
              "      dtype='object')"
            ]
          },
          "metadata": {
            "tags": []
          },
          "execution_count": 38
        },
        {
          "output_type": "execute_result",
          "data": {
            "text/plain": [
              "Index(['indice_tiempo', 'bolsa_g', 'burcap', 'merval', 'merval_arg',\n",
              "       'merval_25'],\n",
              "      dtype='object')"
            ]
          },
          "metadata": {
            "tags": []
          },
          "execution_count": 61
        }
      ]
    },
    {
      "cell_type": "code",
      "metadata": {
        "id": "SuGTUIp1kpya",
        "colab": {
          "base_uri": "https://localhost:8080/"
        },
        "outputId": "6aa04390-a186-42b2-efd4-2f027af50a12"
      },
      "source": [
        "df2.info()"
      ],
      "execution_count": 62,
      "outputs": [
        {
          "output_type": "stream",
          "text": [
            "<class 'pandas.core.frame.DataFrame'>\n",
            "RangeIndex: 5903 entries, 0 to 5902\n",
            "Data columns (total 6 columns):\n",
            " #   Column         Non-Null Count  Dtype  \n",
            "---  ------         --------------  -----  \n",
            " 0   indice_tiempo  5903 non-null   object \n",
            " 1   bolsa_g        3990 non-null   float64\n",
            " 2   burcap         3545 non-null   float64\n",
            " 3   merval         3990 non-null   float64\n",
            " 4   merval_arg     3990 non-null   float64\n",
            " 5   merval_25      3545 non-null   float64\n",
            "dtypes: float64(5), object(1)\n",
            "memory usage: 276.8+ KB\n",
            "<class 'pandas.core.frame.DataFrame'>\n",
            "RangeIndex: 5903 entries, 0 to 5902\n",
            "Data columns (total 6 columns):\n",
            " #   Column         Non-Null Count  Dtype  \n",
            "---  ------         --------------  -----  \n",
            " 0   indice_tiempo  5903 non-null   object \n",
            " 1   bolsa_g        3990 non-null   float64\n",
            " 2   burcap         3545 non-null   float64\n",
            " 3   merval         3990 non-null   float64\n",
            " 4   merval_arg     3990 non-null   float64\n",
            " 5   merval_25      3545 non-null   float64\n",
            "dtypes: float64(5), object(1)\n",
            "memory usage: 276.8+ KB\n"
          ],
          "name": "stdout"
        }
      ]
    },
    {
      "cell_type": "markdown",
      "metadata": {
        "button": false,
        "deletable": true,
        "new_sheet": false,
        "run_control": {
          "read_only": false
        },
        "id": "aj4bcyazNdYl"
      },
      "source": [
        "<h2 id=\"data_exploration\">Data Exploration</h2>\n",
        "Lets first have a descriptive exploration on our data."
      ]
    },
    {
      "cell_type": "code",
      "metadata": {
        "button": false,
        "deletable": true,
        "new_sheet": false,
        "run_control": {
          "read_only": false
        },
        "id": "M-NZWaSjNdYl",
        "colab": {
          "base_uri": "https://localhost:8080/",
          "height": 579
        },
        "outputId": "9c3c2d96-95c4-4c3a-90fe-df44a2eff466"
      },
      "source": [
        "# summarize the data\n",
        "df1.describe()"
      ],
      "execution_count": 63,
      "outputs": [
        {
          "output_type": "execute_result",
          "data": {
            "text/html": [
              "<div>\n",
              "<style scoped>\n",
              "    .dataframe tbody tr th:only-of-type {\n",
              "        vertical-align: middle;\n",
              "    }\n",
              "\n",
              "    .dataframe tbody tr th {\n",
              "        vertical-align: top;\n",
              "    }\n",
              "\n",
              "    .dataframe thead th {\n",
              "        text-align: right;\n",
              "    }\n",
              "</style>\n",
              "<table border=\"1\" class=\"dataframe\">\n",
              "  <thead>\n",
              "    <tr style=\"text-align: right;\">\n",
              "      <th></th>\n",
              "      <th>tipo_cambio_bna_vendedor</th>\n",
              "      <th>tipo_cambio_a3500</th>\n",
              "      <th>tipo_cambio_mae</th>\n",
              "      <th>volumen_mae</th>\n",
              "      <th>tipo_cambio_implicito_en_adrs</th>\n",
              "      <th>futuro_rofex_usd1m</th>\n",
              "      <th>interes_abierto_1m</th>\n",
              "      <th>futuro_rofex_usd2m</th>\n",
              "      <th>interes_abierto_2m</th>\n",
              "      <th>futuro_rofex_usd3m</th>\n",
              "      <th>interes_abierto_3m</th>\n",
              "      <th>futuro_rofex_usd4m</th>\n",
              "      <th>interes_abierto_4m</th>\n",
              "      <th>futuro_rofex_usd5m</th>\n",
              "      <th>interes_abierto_5m</th>\n",
              "      <th>futuro_rofex_usd6m</th>\n",
              "      <th>interes_abierto_6m</th>\n",
              "    </tr>\n",
              "  </thead>\n",
              "  <tbody>\n",
              "    <tr>\n",
              "      <th>count</th>\n",
              "      <td>2221.000000</td>\n",
              "      <td>6847.000000</td>\n",
              "      <td>4536.000000</td>\n",
              "      <td>3.038000e+03</td>\n",
              "      <td>6845.000000</td>\n",
              "      <td>4351.000000</td>\n",
              "      <td>4.351000e+03</td>\n",
              "      <td>4351.000000</td>\n",
              "      <td>4.351000e+03</td>\n",
              "      <td>4351.000000</td>\n",
              "      <td>4.351000e+03</td>\n",
              "      <td>4351.000000</td>\n",
              "      <td>4.351000e+03</td>\n",
              "      <td>4351.000000</td>\n",
              "      <td>4.351000e+03</td>\n",
              "      <td>4351.000000</td>\n",
              "      <td>4.351000e+03</td>\n",
              "    </tr>\n",
              "    <tr>\n",
              "      <th>mean</th>\n",
              "      <td>30.856837</td>\n",
              "      <td>12.365986</td>\n",
              "      <td>17.097996</td>\n",
              "      <td>2.218796e+05</td>\n",
              "      <td>15.517048</td>\n",
              "      <td>17.952452</td>\n",
              "      <td>7.460627e+05</td>\n",
              "      <td>18.588362</td>\n",
              "      <td>6.176222e+05</td>\n",
              "      <td>19.237604</td>\n",
              "      <td>4.566830e+05</td>\n",
              "      <td>19.869719</td>\n",
              "      <td>3.444413e+05</td>\n",
              "      <td>20.496883</td>\n",
              "      <td>2.691909e+05</td>\n",
              "      <td>21.121652</td>\n",
              "      <td>2.158884e+05</td>\n",
              "    </tr>\n",
              "    <tr>\n",
              "      <th>std</th>\n",
              "      <td>22.807343</td>\n",
              "      <td>17.398446</td>\n",
              "      <td>19.761607</td>\n",
              "      <td>1.450258e+05</td>\n",
              "      <td>26.714475</td>\n",
              "      <td>20.346072</td>\n",
              "      <td>5.746329e+05</td>\n",
              "      <td>21.351184</td>\n",
              "      <td>4.527460e+05</td>\n",
              "      <td>22.405786</td>\n",
              "      <td>3.896199e+05</td>\n",
              "      <td>23.429317</td>\n",
              "      <td>3.432233e+05</td>\n",
              "      <td>24.453027</td>\n",
              "      <td>2.723080e+05</td>\n",
              "      <td>25.477810</td>\n",
              "      <td>2.678216e+05</td>\n",
              "    </tr>\n",
              "    <tr>\n",
              "      <th>min</th>\n",
              "      <td>8.490000</td>\n",
              "      <td>1.991700</td>\n",
              "      <td>3.012000</td>\n",
              "      <td>5.000000e+02</td>\n",
              "      <td>2.180124</td>\n",
              "      <td>3.468000</td>\n",
              "      <td>1.300000e+01</td>\n",
              "      <td>3.508000</td>\n",
              "      <td>2.870000e+02</td>\n",
              "      <td>3.549000</td>\n",
              "      <td>2.002200e+04</td>\n",
              "      <td>3.592000</td>\n",
              "      <td>3.279600e+04</td>\n",
              "      <td>3.628000</td>\n",
              "      <td>2.900000e+04</td>\n",
              "      <td>3.667000</td>\n",
              "      <td>8.305000e+03</td>\n",
              "    </tr>\n",
              "    <tr>\n",
              "      <th>25%</th>\n",
              "      <td>14.700000</td>\n",
              "      <td>3.103900</td>\n",
              "      <td>4.142250</td>\n",
              "      <td>1.179250e+05</td>\n",
              "      <td>3.109244</td>\n",
              "      <td>4.306000</td>\n",
              "      <td>3.960050e+05</td>\n",
              "      <td>4.342000</td>\n",
              "      <td>3.426605e+05</td>\n",
              "      <td>4.384000</td>\n",
              "      <td>2.721800e+05</td>\n",
              "      <td>4.425000</td>\n",
              "      <td>1.914350e+05</td>\n",
              "      <td>4.470000</td>\n",
              "      <td>1.380940e+05</td>\n",
              "      <td>4.514000</td>\n",
              "      <td>9.058000e+04</td>\n",
              "    </tr>\n",
              "    <tr>\n",
              "      <th>50%</th>\n",
              "      <td>17.785000</td>\n",
              "      <td>4.129700</td>\n",
              "      <td>8.414500</td>\n",
              "      <td>1.830000e+05</td>\n",
              "      <td>4.352211</td>\n",
              "      <td>8.631000</td>\n",
              "      <td>5.664060e+05</td>\n",
              "      <td>8.792000</td>\n",
              "      <td>4.943790e+05</td>\n",
              "      <td>8.985000</td>\n",
              "      <td>3.534090e+05</td>\n",
              "      <td>9.188000</td>\n",
              "      <td>2.582360e+05</td>\n",
              "      <td>9.395000</td>\n",
              "      <td>1.942400e+05</td>\n",
              "      <td>9.604000</td>\n",
              "      <td>1.453330e+05</td>\n",
              "    </tr>\n",
              "    <tr>\n",
              "      <th>75%</th>\n",
              "      <td>44.400000</td>\n",
              "      <td>14.227700</td>\n",
              "      <td>17.480750</td>\n",
              "      <td>2.948675e+05</td>\n",
              "      <td>14.516781</td>\n",
              "      <td>17.964000</td>\n",
              "      <td>8.699460e+05</td>\n",
              "      <td>18.311000</td>\n",
              "      <td>7.128160e+05</td>\n",
              "      <td>18.681500</td>\n",
              "      <td>5.053450e+05</td>\n",
              "      <td>19.005000</td>\n",
              "      <td>3.752955e+05</td>\n",
              "      <td>19.310000</td>\n",
              "      <td>2.912490e+05</td>\n",
              "      <td>19.644500</td>\n",
              "      <td>2.565280e+05</td>\n",
              "    </tr>\n",
              "    <tr>\n",
              "      <th>max</th>\n",
              "      <td>86.500000</td>\n",
              "      <td>81.395000</td>\n",
              "      <td>81.430000</td>\n",
              "      <td>1.546850e+06</td>\n",
              "      <td>181.666667</td>\n",
              "      <td>84.480000</td>\n",
              "      <td>3.517970e+06</td>\n",
              "      <td>89.830000</td>\n",
              "      <td>3.473273e+06</td>\n",
              "      <td>94.630000</td>\n",
              "      <td>3.430609e+06</td>\n",
              "      <td>100.200000</td>\n",
              "      <td>3.436969e+06</td>\n",
              "      <td>105.800000</td>\n",
              "      <td>2.763188e+06</td>\n",
              "      <td>111.400000</td>\n",
              "      <td>2.766503e+06</td>\n",
              "    </tr>\n",
              "  </tbody>\n",
              "</table>\n",
              "</div>"
            ],
            "text/plain": [
              "       tipo_cambio_bna_vendedor  ...  interes_abierto_6m\n",
              "count               2221.000000  ...        4.351000e+03\n",
              "mean                  30.856837  ...        2.158884e+05\n",
              "std                   22.807343  ...        2.678216e+05\n",
              "min                    8.490000  ...        8.305000e+03\n",
              "25%                   14.700000  ...        9.058000e+04\n",
              "50%                   17.785000  ...        1.453330e+05\n",
              "75%                   44.400000  ...        2.565280e+05\n",
              "max                   86.500000  ...        2.766503e+06\n",
              "\n",
              "[8 rows x 17 columns]"
            ]
          },
          "metadata": {
            "tags": []
          },
          "execution_count": 40
        },
        {
          "output_type": "execute_result",
          "data": {
            "text/html": [
              "<div>\n",
              "<style scoped>\n",
              "    .dataframe tbody tr th:only-of-type {\n",
              "        vertical-align: middle;\n",
              "    }\n",
              "\n",
              "    .dataframe tbody tr th {\n",
              "        vertical-align: top;\n",
              "    }\n",
              "\n",
              "    .dataframe thead th {\n",
              "        text-align: right;\n",
              "    }\n",
              "</style>\n",
              "<table border=\"1\" class=\"dataframe\">\n",
              "  <thead>\n",
              "    <tr style=\"text-align: right;\">\n",
              "      <th></th>\n",
              "      <th>tipo_cambio_bna_vendedor</th>\n",
              "      <th>tipo_cambio_a3500</th>\n",
              "      <th>tipo_cambio_mae</th>\n",
              "      <th>volumen_mae</th>\n",
              "      <th>tipo_cambio_implicito_en_adrs</th>\n",
              "      <th>futuro_rofex_usd1m</th>\n",
              "      <th>interes_abierto_1m</th>\n",
              "      <th>futuro_rofex_usd2m</th>\n",
              "      <th>interes_abierto_2m</th>\n",
              "      <th>futuro_rofex_usd3m</th>\n",
              "      <th>interes_abierto_3m</th>\n",
              "      <th>futuro_rofex_usd4m</th>\n",
              "      <th>interes_abierto_4m</th>\n",
              "      <th>futuro_rofex_usd5m</th>\n",
              "      <th>interes_abierto_5m</th>\n",
              "      <th>futuro_rofex_usd6m</th>\n",
              "      <th>interes_abierto_6m</th>\n",
              "    </tr>\n",
              "  </thead>\n",
              "  <tbody>\n",
              "    <tr>\n",
              "      <th>count</th>\n",
              "      <td>2221.000000</td>\n",
              "      <td>6847.000000</td>\n",
              "      <td>4536.000000</td>\n",
              "      <td>3.038000e+03</td>\n",
              "      <td>6845.000000</td>\n",
              "      <td>4351.000000</td>\n",
              "      <td>4.351000e+03</td>\n",
              "      <td>4351.000000</td>\n",
              "      <td>4.351000e+03</td>\n",
              "      <td>4351.000000</td>\n",
              "      <td>4.351000e+03</td>\n",
              "      <td>4351.000000</td>\n",
              "      <td>4.351000e+03</td>\n",
              "      <td>4351.000000</td>\n",
              "      <td>4.351000e+03</td>\n",
              "      <td>4351.000000</td>\n",
              "      <td>4.351000e+03</td>\n",
              "    </tr>\n",
              "    <tr>\n",
              "      <th>mean</th>\n",
              "      <td>30.856837</td>\n",
              "      <td>12.365986</td>\n",
              "      <td>17.097996</td>\n",
              "      <td>2.218796e+05</td>\n",
              "      <td>15.517048</td>\n",
              "      <td>17.952452</td>\n",
              "      <td>7.460627e+05</td>\n",
              "      <td>18.588362</td>\n",
              "      <td>6.176222e+05</td>\n",
              "      <td>19.237604</td>\n",
              "      <td>4.566830e+05</td>\n",
              "      <td>19.869719</td>\n",
              "      <td>3.444413e+05</td>\n",
              "      <td>20.496883</td>\n",
              "      <td>2.691909e+05</td>\n",
              "      <td>21.121652</td>\n",
              "      <td>2.158884e+05</td>\n",
              "    </tr>\n",
              "    <tr>\n",
              "      <th>std</th>\n",
              "      <td>22.807343</td>\n",
              "      <td>17.398446</td>\n",
              "      <td>19.761607</td>\n",
              "      <td>1.450258e+05</td>\n",
              "      <td>26.714475</td>\n",
              "      <td>20.346072</td>\n",
              "      <td>5.746329e+05</td>\n",
              "      <td>21.351184</td>\n",
              "      <td>4.527460e+05</td>\n",
              "      <td>22.405786</td>\n",
              "      <td>3.896199e+05</td>\n",
              "      <td>23.429317</td>\n",
              "      <td>3.432233e+05</td>\n",
              "      <td>24.453027</td>\n",
              "      <td>2.723080e+05</td>\n",
              "      <td>25.477810</td>\n",
              "      <td>2.678216e+05</td>\n",
              "    </tr>\n",
              "    <tr>\n",
              "      <th>min</th>\n",
              "      <td>8.490000</td>\n",
              "      <td>1.991700</td>\n",
              "      <td>3.012000</td>\n",
              "      <td>5.000000e+02</td>\n",
              "      <td>2.180124</td>\n",
              "      <td>3.468000</td>\n",
              "      <td>1.300000e+01</td>\n",
              "      <td>3.508000</td>\n",
              "      <td>2.870000e+02</td>\n",
              "      <td>3.549000</td>\n",
              "      <td>2.002200e+04</td>\n",
              "      <td>3.592000</td>\n",
              "      <td>3.279600e+04</td>\n",
              "      <td>3.628000</td>\n",
              "      <td>2.900000e+04</td>\n",
              "      <td>3.667000</td>\n",
              "      <td>8.305000e+03</td>\n",
              "    </tr>\n",
              "    <tr>\n",
              "      <th>25%</th>\n",
              "      <td>14.700000</td>\n",
              "      <td>3.103900</td>\n",
              "      <td>4.142250</td>\n",
              "      <td>1.179250e+05</td>\n",
              "      <td>3.109244</td>\n",
              "      <td>4.306000</td>\n",
              "      <td>3.960050e+05</td>\n",
              "      <td>4.342000</td>\n",
              "      <td>3.426605e+05</td>\n",
              "      <td>4.384000</td>\n",
              "      <td>2.721800e+05</td>\n",
              "      <td>4.425000</td>\n",
              "      <td>1.914350e+05</td>\n",
              "      <td>4.470000</td>\n",
              "      <td>1.380940e+05</td>\n",
              "      <td>4.514000</td>\n",
              "      <td>9.058000e+04</td>\n",
              "    </tr>\n",
              "    <tr>\n",
              "      <th>50%</th>\n",
              "      <td>17.785000</td>\n",
              "      <td>4.129700</td>\n",
              "      <td>8.414500</td>\n",
              "      <td>1.830000e+05</td>\n",
              "      <td>4.352211</td>\n",
              "      <td>8.631000</td>\n",
              "      <td>5.664060e+05</td>\n",
              "      <td>8.792000</td>\n",
              "      <td>4.943790e+05</td>\n",
              "      <td>8.985000</td>\n",
              "      <td>3.534090e+05</td>\n",
              "      <td>9.188000</td>\n",
              "      <td>2.582360e+05</td>\n",
              "      <td>9.395000</td>\n",
              "      <td>1.942400e+05</td>\n",
              "      <td>9.604000</td>\n",
              "      <td>1.453330e+05</td>\n",
              "    </tr>\n",
              "    <tr>\n",
              "      <th>75%</th>\n",
              "      <td>44.400000</td>\n",
              "      <td>14.227700</td>\n",
              "      <td>17.480750</td>\n",
              "      <td>2.948675e+05</td>\n",
              "      <td>14.516781</td>\n",
              "      <td>17.964000</td>\n",
              "      <td>8.699460e+05</td>\n",
              "      <td>18.311000</td>\n",
              "      <td>7.128160e+05</td>\n",
              "      <td>18.681500</td>\n",
              "      <td>5.053450e+05</td>\n",
              "      <td>19.005000</td>\n",
              "      <td>3.752955e+05</td>\n",
              "      <td>19.310000</td>\n",
              "      <td>2.912490e+05</td>\n",
              "      <td>19.644500</td>\n",
              "      <td>2.565280e+05</td>\n",
              "    </tr>\n",
              "    <tr>\n",
              "      <th>max</th>\n",
              "      <td>86.500000</td>\n",
              "      <td>81.395000</td>\n",
              "      <td>81.430000</td>\n",
              "      <td>1.546850e+06</td>\n",
              "      <td>181.666667</td>\n",
              "      <td>84.480000</td>\n",
              "      <td>3.517970e+06</td>\n",
              "      <td>89.830000</td>\n",
              "      <td>3.473273e+06</td>\n",
              "      <td>94.630000</td>\n",
              "      <td>3.430609e+06</td>\n",
              "      <td>100.200000</td>\n",
              "      <td>3.436969e+06</td>\n",
              "      <td>105.800000</td>\n",
              "      <td>2.763188e+06</td>\n",
              "      <td>111.400000</td>\n",
              "      <td>2.766503e+06</td>\n",
              "    </tr>\n",
              "  </tbody>\n",
              "</table>\n",
              "</div>"
            ],
            "text/plain": [
              "       tipo_cambio_bna_vendedor  ...  interes_abierto_6m\n",
              "count               2221.000000  ...        4.351000e+03\n",
              "mean                  30.856837  ...        2.158884e+05\n",
              "std                   22.807343  ...        2.678216e+05\n",
              "min                    8.490000  ...        8.305000e+03\n",
              "25%                   14.700000  ...        9.058000e+04\n",
              "50%                   17.785000  ...        1.453330e+05\n",
              "75%                   44.400000  ...        2.565280e+05\n",
              "max                   86.500000  ...        2.766503e+06\n",
              "\n",
              "[8 rows x 17 columns]"
            ]
          },
          "metadata": {
            "tags": []
          },
          "execution_count": 63
        }
      ]
    },
    {
      "cell_type": "code",
      "metadata": {
        "button": false,
        "deletable": true,
        "new_sheet": false,
        "run_control": {
          "read_only": false
        },
        "id": "FzzSdx4USmLn",
        "colab": {
          "base_uri": "https://localhost:8080/",
          "height": 559
        },
        "outputId": "1b446bf1-b64a-49ca-ef5f-2420aad88644"
      },
      "source": [
        "# summarize the data\n",
        "df2.describe()"
      ],
      "execution_count": 64,
      "outputs": [
        {
          "output_type": "execute_result",
          "data": {
            "text/html": [
              "<div>\n",
              "<style scoped>\n",
              "    .dataframe tbody tr th:only-of-type {\n",
              "        vertical-align: middle;\n",
              "    }\n",
              "\n",
              "    .dataframe tbody tr th {\n",
              "        vertical-align: top;\n",
              "    }\n",
              "\n",
              "    .dataframe thead th {\n",
              "        text-align: right;\n",
              "    }\n",
              "</style>\n",
              "<table border=\"1\" class=\"dataframe\">\n",
              "  <thead>\n",
              "    <tr style=\"text-align: right;\">\n",
              "      <th></th>\n",
              "      <th>bolsa_g</th>\n",
              "      <th>burcap</th>\n",
              "      <th>merval</th>\n",
              "      <th>merval_arg</th>\n",
              "      <th>merval_25</th>\n",
              "    </tr>\n",
              "  </thead>\n",
              "  <tbody>\n",
              "    <tr>\n",
              "      <th>count</th>\n",
              "      <td>3.990000e+03</td>\n",
              "      <td>3545.000000</td>\n",
              "      <td>3990.000000</td>\n",
              "      <td>3990.000000</td>\n",
              "      <td>3545.000000</td>\n",
              "    </tr>\n",
              "    <tr>\n",
              "      <th>mean</th>\n",
              "      <td>5.000485e+05</td>\n",
              "      <td>23504.097836</td>\n",
              "      <td>11248.534724</td>\n",
              "      <td>9942.790677</td>\n",
              "      <td>8372.645368</td>\n",
              "    </tr>\n",
              "    <tr>\n",
              "      <th>std</th>\n",
              "      <td>5.517250e+05</td>\n",
              "      <td>26233.515235</td>\n",
              "      <td>13098.261827</td>\n",
              "      <td>11545.618819</td>\n",
              "      <td>10149.826091</td>\n",
              "    </tr>\n",
              "    <tr>\n",
              "      <th>min</th>\n",
              "      <td>5.034626e+04</td>\n",
              "      <td>2814.380000</td>\n",
              "      <td>828.990000</td>\n",
              "      <td>591.870000</td>\n",
              "      <td>828.940000</td>\n",
              "    </tr>\n",
              "    <tr>\n",
              "      <th>25%</th>\n",
              "      <td>1.131474e+05</td>\n",
              "      <td>7172.360000</td>\n",
              "      <td>2089.847500</td>\n",
              "      <td>1521.712500</td>\n",
              "      <td>2003.120000</td>\n",
              "    </tr>\n",
              "    <tr>\n",
              "      <th>50%</th>\n",
              "      <td>1.863924e+05</td>\n",
              "      <td>9533.550000</td>\n",
              "      <td>3357.150000</td>\n",
              "      <td>2589.270000</td>\n",
              "      <td>2825.800000</td>\n",
              "    </tr>\n",
              "    <tr>\n",
              "      <th>75%</th>\n",
              "      <td>7.547848e+05</td>\n",
              "      <td>32254.870000</td>\n",
              "      <td>17235.110000</td>\n",
              "      <td>15875.457500</td>\n",
              "      <td>11622.540000</td>\n",
              "    </tr>\n",
              "    <tr>\n",
              "      <th>max</th>\n",
              "      <td>2.331170e+06</td>\n",
              "      <td>109493.300000</td>\n",
              "      <td>55427.270000</td>\n",
              "      <td>39634.670000</td>\n",
              "      <td>41313.960000</td>\n",
              "    </tr>\n",
              "  </tbody>\n",
              "</table>\n",
              "</div>"
            ],
            "text/plain": [
              "            bolsa_g         burcap        merval    merval_arg     merval_25\n",
              "count  3.990000e+03    3545.000000   3990.000000   3990.000000   3545.000000\n",
              "mean   5.000485e+05   23504.097836  11248.534724   9942.790677   8372.645368\n",
              "std    5.517250e+05   26233.515235  13098.261827  11545.618819  10149.826091\n",
              "min    5.034626e+04    2814.380000    828.990000    591.870000    828.940000\n",
              "25%    1.131474e+05    7172.360000   2089.847500   1521.712500   2003.120000\n",
              "50%    1.863924e+05    9533.550000   3357.150000   2589.270000   2825.800000\n",
              "75%    7.547848e+05   32254.870000  17235.110000  15875.457500  11622.540000\n",
              "max    2.331170e+06  109493.300000  55427.270000  39634.670000  41313.960000"
            ]
          },
          "metadata": {
            "tags": []
          },
          "execution_count": 41
        },
        {
          "output_type": "execute_result",
          "data": {
            "text/html": [
              "<div>\n",
              "<style scoped>\n",
              "    .dataframe tbody tr th:only-of-type {\n",
              "        vertical-align: middle;\n",
              "    }\n",
              "\n",
              "    .dataframe tbody tr th {\n",
              "        vertical-align: top;\n",
              "    }\n",
              "\n",
              "    .dataframe thead th {\n",
              "        text-align: right;\n",
              "    }\n",
              "</style>\n",
              "<table border=\"1\" class=\"dataframe\">\n",
              "  <thead>\n",
              "    <tr style=\"text-align: right;\">\n",
              "      <th></th>\n",
              "      <th>bolsa_g</th>\n",
              "      <th>burcap</th>\n",
              "      <th>merval</th>\n",
              "      <th>merval_arg</th>\n",
              "      <th>merval_25</th>\n",
              "    </tr>\n",
              "  </thead>\n",
              "  <tbody>\n",
              "    <tr>\n",
              "      <th>count</th>\n",
              "      <td>3.990000e+03</td>\n",
              "      <td>3545.000000</td>\n",
              "      <td>3990.000000</td>\n",
              "      <td>3990.000000</td>\n",
              "      <td>3545.000000</td>\n",
              "    </tr>\n",
              "    <tr>\n",
              "      <th>mean</th>\n",
              "      <td>5.000485e+05</td>\n",
              "      <td>23504.097836</td>\n",
              "      <td>11248.534724</td>\n",
              "      <td>9942.790677</td>\n",
              "      <td>8372.645368</td>\n",
              "    </tr>\n",
              "    <tr>\n",
              "      <th>std</th>\n",
              "      <td>5.517250e+05</td>\n",
              "      <td>26233.515235</td>\n",
              "      <td>13098.261827</td>\n",
              "      <td>11545.618819</td>\n",
              "      <td>10149.826091</td>\n",
              "    </tr>\n",
              "    <tr>\n",
              "      <th>min</th>\n",
              "      <td>5.034626e+04</td>\n",
              "      <td>2814.380000</td>\n",
              "      <td>828.990000</td>\n",
              "      <td>591.870000</td>\n",
              "      <td>828.940000</td>\n",
              "    </tr>\n",
              "    <tr>\n",
              "      <th>25%</th>\n",
              "      <td>1.131474e+05</td>\n",
              "      <td>7172.360000</td>\n",
              "      <td>2089.847500</td>\n",
              "      <td>1521.712500</td>\n",
              "      <td>2003.120000</td>\n",
              "    </tr>\n",
              "    <tr>\n",
              "      <th>50%</th>\n",
              "      <td>1.863924e+05</td>\n",
              "      <td>9533.550000</td>\n",
              "      <td>3357.150000</td>\n",
              "      <td>2589.270000</td>\n",
              "      <td>2825.800000</td>\n",
              "    </tr>\n",
              "    <tr>\n",
              "      <th>75%</th>\n",
              "      <td>7.547848e+05</td>\n",
              "      <td>32254.870000</td>\n",
              "      <td>17235.110000</td>\n",
              "      <td>15875.457500</td>\n",
              "      <td>11622.540000</td>\n",
              "    </tr>\n",
              "    <tr>\n",
              "      <th>max</th>\n",
              "      <td>2.331170e+06</td>\n",
              "      <td>109493.300000</td>\n",
              "      <td>55427.270000</td>\n",
              "      <td>39634.670000</td>\n",
              "      <td>41313.960000</td>\n",
              "    </tr>\n",
              "  </tbody>\n",
              "</table>\n",
              "</div>"
            ],
            "text/plain": [
              "            bolsa_g         burcap        merval    merval_arg     merval_25\n",
              "count  3.990000e+03    3545.000000   3990.000000   3990.000000   3545.000000\n",
              "mean   5.000485e+05   23504.097836  11248.534724   9942.790677   8372.645368\n",
              "std    5.517250e+05   26233.515235  13098.261827  11545.618819  10149.826091\n",
              "min    5.034626e+04    2814.380000    828.990000    591.870000    828.940000\n",
              "25%    1.131474e+05    7172.360000   2089.847500   1521.712500   2003.120000\n",
              "50%    1.863924e+05    9533.550000   3357.150000   2589.270000   2825.800000\n",
              "75%    7.547848e+05   32254.870000  17235.110000  15875.457500  11622.540000\n",
              "max    2.331170e+06  109493.300000  55427.270000  39634.670000  41313.960000"
            ]
          },
          "metadata": {
            "tags": []
          },
          "execution_count": 64
        }
      ]
    },
    {
      "cell_type": "markdown",
      "metadata": {
        "id": "8po9OEELNdYq"
      },
      "source": [
        "Lets select some features to explore more."
      ]
    },
    {
      "cell_type": "code",
      "metadata": {
        "button": false,
        "deletable": true,
        "new_sheet": false,
        "run_control": {
          "read_only": false
        },
        "id": "GzVtLVu4NdYr"
      },
      "source": [
        "concatenado = pd.merge(df1, df2, how=\"left\", on=\"indice_tiempo\")\n"
      ],
      "execution_count": 65,
      "outputs": []
    },
    {
      "cell_type": "code",
      "metadata": {
        "id": "wLEPqB9dF-vD",
        "colab": {
          "base_uri": "https://localhost:8080/"
        },
        "outputId": "1ee00996-c8fa-4166-c3d6-547855ec526e"
      },
      "source": [
        "concatenado.columns"
      ],
      "execution_count": 66,
      "outputs": [
        {
          "output_type": "execute_result",
          "data": {
            "text/plain": [
              "Index(['indice_tiempo', 'tipo_cambio_bna_vendedor', 'tipo_cambio_a3500',\n",
              "       'tipo_cambio_mae', 'volumen_mae', 'tipo_cambio_implicito_en_adrs',\n",
              "       'futuro_rofex_usd1m', 'interes_abierto_1m', 'futuro_rofex_usd2m',\n",
              "       'interes_abierto_2m', 'futuro_rofex_usd3m', 'interes_abierto_3m',\n",
              "       'futuro_rofex_usd4m', 'interes_abierto_4m', 'futuro_rofex_usd5m',\n",
              "       'interes_abierto_5m', 'futuro_rofex_usd6m', 'interes_abierto_6m',\n",
              "       'bolsa_g', 'burcap', 'merval', 'merval_arg', 'merval_25'],\n",
              "      dtype='object')"
            ]
          },
          "metadata": {
            "tags": []
          },
          "execution_count": 43
        },
        {
          "output_type": "execute_result",
          "data": {
            "text/plain": [
              "Index(['indice_tiempo', 'tipo_cambio_bna_vendedor', 'tipo_cambio_a3500',\n",
              "       'tipo_cambio_mae', 'volumen_mae', 'tipo_cambio_implicito_en_adrs',\n",
              "       'futuro_rofex_usd1m', 'interes_abierto_1m', 'futuro_rofex_usd2m',\n",
              "       'interes_abierto_2m', 'futuro_rofex_usd3m', 'interes_abierto_3m',\n",
              "       'futuro_rofex_usd4m', 'interes_abierto_4m', 'futuro_rofex_usd5m',\n",
              "       'interes_abierto_5m', 'futuro_rofex_usd6m', 'interes_abierto_6m',\n",
              "       'bolsa_g', 'burcap', 'merval', 'merval_arg', 'merval_25'],\n",
              "      dtype='object')"
            ]
          },
          "metadata": {
            "tags": []
          },
          "execution_count": 66
        }
      ]
    },
    {
      "cell_type": "code",
      "metadata": {
        "id": "0Zq8sLgpFY-C"
      },
      "source": [
        "concatenado[\"Merval_en_USD\"] = concatenado[\"merval\"] / concatenado[\"tipo_cambio_implicito_en_adrs\"] "
      ],
      "execution_count": 67,
      "outputs": []
    },
    {
      "cell_type": "code",
      "metadata": {
        "id": "zdDO_N04lJwp"
      },
      "source": [
        "concatenado.drop(columns= ['volumen_mae'],inplace=True)"
      ],
      "execution_count": 68,
      "outputs": []
    },
    {
      "cell_type": "code",
      "metadata": {
        "id": "adebZigQJ3OB"
      },
      "source": [
        "concatenado.head(30 )"
      ],
      "execution_count": null,
      "outputs": []
    },
    {
      "cell_type": "markdown",
      "metadata": {
        "id": "Qvv2725WNdYu"
      },
      "source": [
        "we can plot each of these features:"
      ]
    },
    {
      "cell_type": "code",
      "metadata": {
        "id": "a_7VxI3DkCac",
        "colab": {
          "base_uri": "https://localhost:8080/",
          "height": 1000
        },
        "outputId": "94a6d8f3-b77c-447f-eb0d-16632bb8fe93"
      },
      "source": [
        "sns.heatmap(concatenado.corr())"
      ],
      "execution_count": 70,
      "outputs": [
        {
          "output_type": "execute_result",
          "data": {
            "text/plain": [
              "<matplotlib.axes._subplots.AxesSubplot at 0x7f3e2bfd0860>"
            ]
          },
          "metadata": {
            "tags": []
          },
          "execution_count": 47
        },
        {
          "output_type": "display_data",
          "data": {
            "image/png": "[encoded data removed]",
            "text/plain": [
              "<Figure size 1368x648 with 2 Axes>"
            ]
          },
          "metadata": {
            "tags": [],
            "needs_background": "light"
          }
        },
        {
          "output_type": "execute_result",
          "data": {
            "text/plain": [
              "<matplotlib.axes._subplots.AxesSubplot at 0x7f3e2a41dc18>"
            ]
          },
          "metadata": {
            "tags": []
          },
          "execution_count": 70
        },
        {
          "output_type": "display_data",
          "data": {
            "image/png": "[encoded data removed]",
            "text/plain": [
              "<Figure size 1368x648 with 2 Axes>"
            ]
          },
          "metadata": {
            "tags": [],
            "needs_background": "light"
          }
        }
      ]
    },
    {
      "cell_type": "markdown",
      "metadata": {
        "id": "5Gu7YVljNdYy"
      },
      "source": [
        "Now, lets plot each of these features vs the Emission, to see how linear is their relation:"
      ]
    },
    {
      "cell_type": "code",
      "metadata": {
        "button": false,
        "deletable": true,
        "new_sheet": false,
        "run_control": {
          "read_only": false
        },
        "id": "q2dl-MbbNdYy",
        "colab": {
          "base_uri": "https://localhost:8080/",
          "height": 1000
        },
        "outputId": "d444d062-395e-4d49-9c0a-ce9535175da8"
      },
      "source": [
        "plt.scatter(concatenado.tipo_cambio_implicito_en_adrs, concatenado.Merval_en_USD,  color=\"green\")\n",
        "plt.xlabel(\"CCL\")\n",
        "plt.ylabel(\"Merval\")\n",
        "plt.show()"
      ],
      "execution_count": 71,
      "outputs": [
        {
          "output_type": "display_data",
          "data": {
            "image/png": "[encoded data removed]",
            "text/plain": [
              "<Figure size 1368x648 with 1 Axes>"
            ]
          },
          "metadata": {
            "tags": [],
            "needs_background": "light"
          }
        },
        {
          "output_type": "display_data",
          "data": {
            "image/png": "[encoded data removed]",
            "text/plain": [
              "<Figure size 1368x648 with 1 Axes>"
            ]
          },
          "metadata": {
            "tags": [],
            "needs_background": "light"
          }
        }
      ]
    },
    {
      "cell_type": "markdown",
      "metadata": {
        "button": false,
        "deletable": true,
        "new_sheet": false,
        "run_control": {
          "read_only": false
        },
        "id": "f74aS0T_NdY8"
      },
      "source": [
        "#### Creating train and test dataset\n",
        "Train/Test Split involves splitting the dataset into training and testing sets respectively, which are mutually exclusive. After which, you train with the training set and test with the testing set. \n",
        "This will provide a more accurate evaluation on out-of-sample accuracy because the testing dataset is not part of the dataset that have been used to train the data. It is more realistic for real world problems.\n",
        "\n",
        "This means that we know the outcome of each data point in this dataset, making it great to test with! And since this data has not been used to train the model, the model has no knowledge of the outcome of these data points. So, in essence, it is truly an out-of-sample testing.\n",
        "\n",
        "Lets split our dataset into train and test sets, 80% of the entire data for training, and the 20% for testing. We create a mask to select random rows using __np.random.rand()__ function: "
      ]
    },
    {
      "cell_type": "code",
      "metadata": {
        "button": false,
        "deletable": true,
        "new_sheet": false,
        "run_control": {
          "read_only": false
        },
        "id": "6o11BfHTNdY8"
      },
      "source": [
        "msk = np.random.rand(len(concatenado)) < 0.8\n",
        "train = concatenado[msk]\n",
        "test = concatenado[~msk]"
      ],
      "execution_count": 72,
      "outputs": []
    },
    {
      "cell_type": "markdown",
      "metadata": {
        "button": false,
        "deletable": true,
        "new_sheet": false,
        "run_control": {
          "read_only": false
        },
        "id": "4tBO7ZMtNdY_"
      },
      "source": [
        "<h2 id=\"simple_regression\">Simple Regression Model</h2>\n",
        "Linear Regression fits a linear model with coefficients $\\theta = (\\theta_1, ..., \\theta_n)$ to minimize the 'residual sum of squares' between the independent x in the dataset, and the dependent y by the linear approximation. "
      ]
    },
    {
      "cell_type": "markdown",
      "metadata": {
        "button": false,
        "deletable": true,
        "new_sheet": false,
        "run_control": {
          "read_only": false
        },
        "id": "1HMb3R16NdZC"
      },
      "source": [
        "#### Train data distribution"
      ]
    },
    {
      "cell_type": "code",
      "metadata": {
        "button": false,
        "deletable": true,
        "new_sheet": false,
        "run_control": {
          "read_only": false
        },
        "id": "fLYd8G5vNdZD",
        "colab": {
          "base_uri": "https://localhost:8080/",
          "height": 551
        },
        "outputId": "a566947c-9142-4f04-c916-a0c78e40f345"
      },
      "source": [
        "plt.scatter(train.tipo_cambio_implicito_en_adrs, train.Merval_en_USD,  color='blue')\n",
        "plt.xlabel(\"CCL\")\n",
        "plt.ylabel(\"Merval en USD\")\n",
        "plt.show()"
      ],
      "execution_count": 73,
      "outputs": [
        {
          "output_type": "display_data",
          "data": {
            "image/png": "[encoded data removed]",
            "text/plain": [
              "<Figure size 1368x648 with 1 Axes>"
            ]
          },
          "metadata": {
            "tags": [],
            "needs_background": "light"
          }
        }
      ]
    },
    {
      "cell_type": "markdown",
      "metadata": {
        "button": false,
        "deletable": true,
        "new_sheet": false,
        "run_control": {
          "read_only": false
        },
        "id": "ZqukoMwDNdZG"
      },
      "source": [
        "#### Modeling\n",
        "Using sklearn package to model data."
      ]
    },
    {
      "cell_type": "code",
      "metadata": {
        "button": false,
        "deletable": true,
        "new_sheet": false,
        "run_control": {
          "read_only": false
        },
        "id": "fTf4SB8sNdZH"
      },
      "source": [
        "from sklearn import linear_model\n",
        "regr = linear_model.LinearRegression()\n",
        "train_x = np.asanyarray(train[['tipo_cambio_implicito_en_adrs']])\n",
        "train_y = np.asanyarray(train[['Merval_en_USD']])\n",
        "regr.fit (train_x, train_y)\n",
        "# The coefficients\n",
        "print ('Coefficients: ', regr.coef_)\n",
        "print ('Intercept: ',regr.intercept_)"
      ],
      "execution_count": null,
      "outputs": []
    },
    {
      "cell_type": "markdown",
      "metadata": {
        "id": "HKOKYmfmNdZK"
      },
      "source": [
        "As mentioned before, __Coefficient__ and __Intercept__ in the simple linear regression, are the parameters of the fit line. \n",
        "Given that it is a simple linear regression, with only 2 parameters, and knowing that the parameters are the intercept and slope of the line, sklearn can estimate them directly from our data. \n",
        "Notice that all of the data must be available to traverse and calculate the parameters.\n"
      ]
    },
    {
      "cell_type": "markdown",
      "metadata": {
        "button": false,
        "deletable": true,
        "new_sheet": false,
        "run_control": {
          "read_only": false
        },
        "id": "APhpKjZKNdZL"
      },
      "source": [
        "#### Plot outputs"
      ]
    },
    {
      "cell_type": "markdown",
      "metadata": {
        "id": "PSAFg4lcNdZM"
      },
      "source": [
        "we can plot the fit line over the data:"
      ]
    },
    {
      "cell_type": "code",
      "metadata": {
        "button": false,
        "deletable": true,
        "new_sheet": false,
        "run_control": {
          "read_only": false
        },
        "id": "nnJ_M21LNdZM"
      },
      "source": [
        "plt.scatter(train.tipo_cambio_implicito_en_adrs, train.Merval_en_USD,  color='black')\n",
        "plt.plot(train_x, regr.coef_[0][0]*train_x + regr.intercept_[0], '-r')\n",
        "plt.xlabel(\"CCL\")\n",
        "plt.ylabel(\"Merval en USD\")"
      ],
      "execution_count": null,
      "outputs": []
    },
    {
      "cell_type": "markdown",
      "metadata": {
        "button": false,
        "deletable": true,
        "new_sheet": false,
        "run_control": {
          "read_only": false
        },
        "id": "7CIY0aoTNdZQ"
      },
      "source": [
        "#### Evaluation\n",
        "we compare the actual values and predicted values to calculate the accuracy of a regression model. Evaluation metrics provide a key role in the development of a model, as it provides insight to areas that require improvement.\n",
        "\n",
        "There are different model evaluation metrics, lets use MSE here to calculate the accuracy of our model based on the test set: \n",
        "<ul>\n",
        "    <li> Mean absolute error: It is the mean of the absolute value of the errors. This is the easiest of the metrics to understand since it’s just average error.</li>\n",
        "    <li> Mean Squared Error (MSE): Mean Squared Error (MSE) is the mean of the squared error. It’s more popular than Mean absolute error because the focus is geared more towards large errors. This is due to the squared term exponentially increasing larger errors in comparison to smaller ones.</li>\n",
        "    <li> Root Mean Squared Error (RMSE): This is the square root of the Mean Square Error. </li>\n",
        "    <li> R-squared is not error, but is a popular metric for accuracy of your model. It represents how close the data are to the fitted regression line. The higher the R-squared, the better the model fits your data. Best possible score is 1.0 and it can be negative (because the model can be arbitrarily worse).</li>\n",
        "</ul>"
      ]
    },
    {
      "cell_type": "code",
      "metadata": {
        "button": false,
        "deletable": true,
        "new_sheet": false,
        "run_control": {
          "read_only": false
        },
        "scrolled": true,
        "id": "C49McrAzNdZQ"
      },
      "source": [
        "from sklearn.metrics import r2_score\n",
        "\n",
        "test_x = np.asanyarray(test[['tipo_cambio_implicito_en_adrs']])\n",
        "test_y = np.asanyarray(test[['Merval_en_USD']])\n",
        "test_y_hat = regr.predict(test_x)\n",
        "\n",
        "print(\"Mean absolute error: %.2f\" % np.mean(np.absolute(test_y_hat - test_y)))\n",
        "print(\"Residual sum of squares (MSE): %.2f\" % np.mean((test_y_hat - test_y) ** 2))\n",
        "print(\"R2-score: %.2f\" % r2_score(test_y_hat , test_y) )"
      ],
      "execution_count": null,
      "outputs": []
    },
    {
      "cell_type": "markdown",
      "metadata": {
        "button": false,
        "deletable": true,
        "new_sheet": false,
        "run_control": {
          "read_only": false
        },
        "id": "b1b5pwaTNdZT"
      },
      "source": [
        "<h2>Want to learn more?</h2>\n",
        "\n",
        "IBM SPSS Modeler is a comprehensive analytics platform that has many machine learning algorithms. It has been designed to bring predictive intelligence to decisions made by individuals, by groups, by systems – by your enterprise as a whole. A free trial is available through this course, available here: <a href=\"http://cocl.us/ML0101EN-SPSSModeler\">SPSS Modeler</a>\n",
        "\n",
        "Also, you can use Watson Studio to run these notebooks faster with bigger datasets. Watson Studio is IBM's leading cloud solution for data scientists, built by data scientists. With Jupyter notebooks, RStudio, Apache Spark and popular libraries pre-packaged in the cloud, Watson Studio enables data scientists to collaborate on their projects without having to install anything. Join the fast-growing community of Watson Studio users today with a free account at <a href=\"https://cocl.us/ML0101EN_DSX\">Watson Studio</a>\n",
        "\n",
        "<h3>Thanks for completing this lesson!</h3>\n",
        "\n",
        "<h4>Author:  <a href=\"https://ca.linkedin.com/in/saeedaghabozorgi\">Saeed Aghabozorgi</a></h4>\n",
        "<p><a href=\"https://ca.linkedin.com/in/saeedaghabozorgi\">Saeed Aghabozorgi</a>, PhD is a Data Scientist in IBM with a track record of developing enterprise level applications that substantially increases clients’ ability to turn data into actionable knowledge. He is a researcher in data mining field and expert in developing advanced analytic methods like machine learning and statistical modelling on large datasets.</p>\n",
        "\n",
        "<hr>\n",
        "\n",
        "<p>Copyright &copy; 2018 <a href=\"https://cocl.us/DX0108EN_CC\">Cognitive Class</a>. This notebook and its source code are released under the terms of the <a href=\"https://bigdatauniversity.com/mit-license/\">MIT License</a>.</p>"
      ]
    }
  ]
}